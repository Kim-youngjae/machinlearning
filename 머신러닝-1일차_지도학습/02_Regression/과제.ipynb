{
 "cells": [
  {
   "cell_type": "markdown",
   "id": "broadband-beach",
   "metadata": {},
   "source": [
    "- 데이터 전처리 하는 선까지 하고 쓸데 없는거 다 날리고 숫자데이터들 뽑기\n",
    "\n",
    "- 있는 수 데이터로 머신러닝돌리기\n",
    "\n",
    "- RMSE, Rsquare 등을 뽑아서 값을 뽑아보기"
   ]
  },
  {
   "cell_type": "code",
   "execution_count": 1,
   "id": "promising-texas",
   "metadata": {},
   "outputs": [],
   "source": [
    "import numpy as np\n",
    "import pandas as pd\n",
    "import seaborn as sns\n",
    "import sklearn\n",
    "import warnings\n",
    "warnings.filterwarnings('ignore') # 워닝 메세지를 생략해줌\n",
    "import os"
   ]
  },
  {
   "cell_type": "markdown",
   "id": "searching-straight",
   "metadata": {},
   "source": [
    "- 디렉토리에 data라는 폴더가 있는지 검색"
   ]
  },
  {
   "cell_type": "code",
   "execution_count": 2,
   "id": "cooperative-artist",
   "metadata": {
    "scrolled": false
   },
   "outputs": [
    {
     "data": {
      "text/plain": [
       "['.DS_Store', 'advertising.csv', 'tvmarketing.csv', '서울_연립다세대_매매']"
      ]
     },
     "execution_count": 2,
     "metadata": {},
     "output_type": "execute_result"
    }
   ],
   "source": [
    "os.listdir(\"data\")"
   ]
  },
  {
   "cell_type": "code",
   "execution_count": 3,
   "id": "reasonable-gathering",
   "metadata": {},
   "outputs": [],
   "source": [
    "import os\n",
    "\n",
    "path = 'data/서울_연립다세대_매매/'\n",
    "file_list = os.listdir(path)\n",
    "file_list_py = [file for file in file_list if file.endswith('.csv')] ## 파일명 끝이 .csv인 경우"
   ]
  },
  {
   "cell_type": "code",
   "execution_count": 4,
   "id": "saving-petroleum",
   "metadata": {
    "scrolled": true
   },
   "outputs": [
    {
     "name": "stdout",
     "output_type": "stream",
     "text": [
      "완료\n"
     ]
    }
   ],
   "source": [
    "df = pd.DataFrame()\n",
    "try:\n",
    "    for i in file_list_py:\n",
    "        data = pd.read_csv(path + i, skiprows=15, encoding='cp949', thousands=',')\n",
    "        df = pd.concat([df,data])\n",
    "except:\n",
    "    print('Error!!!')\n",
    "else:\n",
    "    print('완료')   \n",
    "df = df.reset_index(drop = True)"
   ]
  },
  {
   "cell_type": "code",
   "execution_count": 5,
   "id": "signed-mainland",
   "metadata": {},
   "outputs": [
    {
     "name": "stdout",
     "output_type": "stream",
     "text": [
      "<class 'pandas.core.frame.DataFrame'>\n",
      "RangeIndex: 493355 entries, 0 to 493354\n",
      "Data columns (total 14 columns):\n",
      " #   Column    Non-Null Count   Dtype  \n",
      "---  ------    --------------   -----  \n",
      " 0   시군구       493355 non-null  object \n",
      " 1   번지        493321 non-null  object \n",
      " 2   본번        493355 non-null  int64  \n",
      " 3   부번        493355 non-null  int64  \n",
      " 4   건물명       493355 non-null  object \n",
      " 5   전용면적(㎡)   493355 non-null  float64\n",
      " 6   대지권면적(㎡)  493355 non-null  float64\n",
      " 7   계약년월      493355 non-null  int64  \n",
      " 8   계약일       493355 non-null  int64  \n",
      " 9   거래금액(만원)  493355 non-null  int64  \n",
      " 10  층         493355 non-null  int64  \n",
      " 11  건축년도      493334 non-null  float64\n",
      " 12  도로명       493355 non-null  object \n",
      " 13  해제사유발생일   4464 non-null    float64\n",
      "dtypes: float64(4), int64(6), object(4)\n",
      "memory usage: 52.7+ MB\n"
     ]
    }
   ],
   "source": [
    "df.info()"
   ]
  },
  {
   "cell_type": "code",
   "execution_count": 6,
   "id": "accepted-vegetable",
   "metadata": {},
   "outputs": [
    {
     "data": {
      "text/html": [
       "<div>\n",
       "<style scoped>\n",
       "    .dataframe tbody tr th:only-of-type {\n",
       "        vertical-align: middle;\n",
       "    }\n",
       "\n",
       "    .dataframe tbody tr th {\n",
       "        vertical-align: top;\n",
       "    }\n",
       "\n",
       "    .dataframe thead th {\n",
       "        text-align: right;\n",
       "    }\n",
       "</style>\n",
       "<table border=\"1\" class=\"dataframe\">\n",
       "  <thead>\n",
       "    <tr style=\"text-align: right;\">\n",
       "      <th></th>\n",
       "      <th>시군구</th>\n",
       "      <th>번지</th>\n",
       "      <th>본번</th>\n",
       "      <th>부번</th>\n",
       "      <th>건물명</th>\n",
       "      <th>전용면적(㎡)</th>\n",
       "      <th>대지권면적(㎡)</th>\n",
       "      <th>계약년월</th>\n",
       "      <th>계약일</th>\n",
       "      <th>거래금액(만원)</th>\n",
       "      <th>층</th>\n",
       "      <th>건축년도</th>\n",
       "      <th>도로명</th>\n",
       "      <th>해제사유발생일</th>\n",
       "    </tr>\n",
       "  </thead>\n",
       "  <tbody>\n",
       "    <tr>\n",
       "      <th>0</th>\n",
       "      <td>서울특별시 강남구 개포동</td>\n",
       "      <td>170-18</td>\n",
       "      <td>170</td>\n",
       "      <td>18</td>\n",
       "      <td>(170-18)</td>\n",
       "      <td>26.60</td>\n",
       "      <td>21.53</td>\n",
       "      <td>201007</td>\n",
       "      <td>13</td>\n",
       "      <td>29350</td>\n",
       "      <td>1</td>\n",
       "      <td>1988.0</td>\n",
       "      <td>선릉로12길 17</td>\n",
       "      <td>NaN</td>\n",
       "    </tr>\n",
       "    <tr>\n",
       "      <th>1</th>\n",
       "      <td>서울특별시 강남구 개포동</td>\n",
       "      <td>1219-11</td>\n",
       "      <td>1219</td>\n",
       "      <td>11</td>\n",
       "      <td>강남하이츠</td>\n",
       "      <td>39.90</td>\n",
       "      <td>19.33</td>\n",
       "      <td>201001</td>\n",
       "      <td>22</td>\n",
       "      <td>21500</td>\n",
       "      <td>1</td>\n",
       "      <td>1993.0</td>\n",
       "      <td>개포로20길 35</td>\n",
       "      <td>NaN</td>\n",
       "    </tr>\n",
       "    <tr>\n",
       "      <th>2</th>\n",
       "      <td>서울특별시 강남구 개포동</td>\n",
       "      <td>1202-2</td>\n",
       "      <td>1202</td>\n",
       "      <td>2</td>\n",
       "      <td>경모하이츠</td>\n",
       "      <td>51.69</td>\n",
       "      <td>21.20</td>\n",
       "      <td>201003</td>\n",
       "      <td>12</td>\n",
       "      <td>28500</td>\n",
       "      <td>1</td>\n",
       "      <td>1991.0</td>\n",
       "      <td>개포로22길 41-6</td>\n",
       "      <td>NaN</td>\n",
       "    </tr>\n",
       "    <tr>\n",
       "      <th>3</th>\n",
       "      <td>서울특별시 강남구 개포동</td>\n",
       "      <td>1235-16</td>\n",
       "      <td>1235</td>\n",
       "      <td>16</td>\n",
       "      <td>광현빌라</td>\n",
       "      <td>62.76</td>\n",
       "      <td>34.53</td>\n",
       "      <td>201001</td>\n",
       "      <td>22</td>\n",
       "      <td>36500</td>\n",
       "      <td>2</td>\n",
       "      <td>2001.0</td>\n",
       "      <td>논현로18길 10-13</td>\n",
       "      <td>NaN</td>\n",
       "    </tr>\n",
       "    <tr>\n",
       "      <th>4</th>\n",
       "      <td>서울특별시 강남구 개포동</td>\n",
       "      <td>1235-16</td>\n",
       "      <td>1235</td>\n",
       "      <td>16</td>\n",
       "      <td>광현빌라</td>\n",
       "      <td>77.34</td>\n",
       "      <td>42.55</td>\n",
       "      <td>201011</td>\n",
       "      <td>2</td>\n",
       "      <td>44200</td>\n",
       "      <td>4</td>\n",
       "      <td>2001.0</td>\n",
       "      <td>논현로18길 10-13</td>\n",
       "      <td>NaN</td>\n",
       "    </tr>\n",
       "  </tbody>\n",
       "</table>\n",
       "</div>"
      ],
      "text/plain": [
       "             시군구       번지    본번  부번       건물명  전용면적(㎡)  대지권면적(㎡)    계약년월  계약일  \\\n",
       "0  서울특별시 강남구 개포동   170-18   170  18  (170-18)    26.60     21.53  201007   13   \n",
       "1  서울특별시 강남구 개포동  1219-11  1219  11     강남하이츠    39.90     19.33  201001   22   \n",
       "2  서울특별시 강남구 개포동   1202-2  1202   2     경모하이츠    51.69     21.20  201003   12   \n",
       "3  서울특별시 강남구 개포동  1235-16  1235  16      광현빌라    62.76     34.53  201001   22   \n",
       "4  서울특별시 강남구 개포동  1235-16  1235  16      광현빌라    77.34     42.55  201011    2   \n",
       "\n",
       "   거래금액(만원)  층    건축년도           도로명  해제사유발생일  \n",
       "0     29350  1  1988.0     선릉로12길 17      NaN  \n",
       "1     21500  1  1993.0     개포로20길 35      NaN  \n",
       "2     28500  1  1991.0   개포로22길 41-6      NaN  \n",
       "3     36500  2  2001.0  논현로18길 10-13      NaN  \n",
       "4     44200  4  2001.0  논현로18길 10-13      NaN  "
      ]
     },
     "execution_count": 6,
     "metadata": {},
     "output_type": "execute_result"
    }
   ],
   "source": [
    "df.head()"
   ]
  },
  {
   "cell_type": "code",
   "execution_count": 7,
   "id": "filled-alignment",
   "metadata": {},
   "outputs": [],
   "source": [
    "# 쓸 데 없는 컬럼 삭제\n",
    "df = df.drop('해제사유발생일', axis=1)"
   ]
  },
  {
   "cell_type": "code",
   "execution_count": 8,
   "id": "under-harris",
   "metadata": {},
   "outputs": [
    {
     "data": {
      "text/plain": [
       "Index(['시군구', '번지', '본번', '부번', '건물명', '전용면적(㎡)', '대지권면적(㎡)', '계약년월', '계약일',\n",
       "       '거래금액(만원)', '층', '건축년도', '도로명'],\n",
       "      dtype='object')"
      ]
     },
     "execution_count": 8,
     "metadata": {},
     "output_type": "execute_result"
    }
   ],
   "source": [
    "df.columns"
   ]
  },
  {
   "cell_type": "code",
   "execution_count": 9,
   "id": "convenient-expert",
   "metadata": {},
   "outputs": [],
   "source": [
    "df['동_건물명'] = df['시군구'].str.split(' ', expand=True)[1] + '_' + df['건물명']"
   ]
  },
  {
   "cell_type": "code",
   "execution_count": 10,
   "id": "classified-unknown",
   "metadata": {},
   "outputs": [],
   "source": [
    "df = df.rename(columns={'거래금액(만원)': '거래금액',\n",
    "                       '전용면적(㎡)': '전용면적',\n",
    "                       '대지권면적(㎡)': '대지권면적'})\n",
    "df['거래금액'] = df['거래금액'] * 10000"
   ]
  },
  {
   "cell_type": "code",
   "execution_count": 12,
   "id": "practical-wallpaper",
   "metadata": {},
   "outputs": [],
   "source": [
    "df['동_도로명'] = df['시군구'].str.split(' ', expand=True)[1] + '_' + df['도로명']"
   ]
  },
  {
   "cell_type": "code",
   "execution_count": 13,
   "id": "portuguese-hobby",
   "metadata": {},
   "outputs": [
    {
     "data": {
      "text/plain": [
       "210914"
      ]
     },
     "execution_count": 13,
     "metadata": {},
     "output_type": "execute_result"
    }
   ],
   "source": [
    "df['공급면적'] = df['전용면적'] + df['대지권면적']\n",
    "df['매물구분'] = df['동_도로명'] + '_' + df['전용면적'].astype('str') # 전용면적은 층마다 다를 수 있다 그래서 공급면적이 아니라 전용면적으로 구분 지음\n",
    "df['매물구분'].nunique()"
   ]
  },
  {
   "cell_type": "code",
   "execution_count": 14,
   "id": "harmful-modeling",
   "metadata": {},
   "outputs": [
    {
     "data": {
      "text/html": [
       "<div>\n",
       "<style scoped>\n",
       "    .dataframe tbody tr th:only-of-type {\n",
       "        vertical-align: middle;\n",
       "    }\n",
       "\n",
       "    .dataframe tbody tr th {\n",
       "        vertical-align: top;\n",
       "    }\n",
       "\n",
       "    .dataframe thead th {\n",
       "        text-align: right;\n",
       "    }\n",
       "</style>\n",
       "<table border=\"1\" class=\"dataframe\">\n",
       "  <thead>\n",
       "    <tr style=\"text-align: right;\">\n",
       "      <th></th>\n",
       "      <th>시군구</th>\n",
       "      <th>번지</th>\n",
       "      <th>본번</th>\n",
       "      <th>부번</th>\n",
       "      <th>건물명</th>\n",
       "      <th>전용면적</th>\n",
       "      <th>대지권면적</th>\n",
       "      <th>계약년월</th>\n",
       "      <th>계약일</th>\n",
       "      <th>거래금액</th>\n",
       "      <th>층</th>\n",
       "      <th>건축년도</th>\n",
       "      <th>도로명</th>\n",
       "      <th>동_건물명</th>\n",
       "      <th>동_도로명</th>\n",
       "      <th>공급면적</th>\n",
       "      <th>매물구분</th>\n",
       "      <th>용적률</th>\n",
       "    </tr>\n",
       "  </thead>\n",
       "  <tbody>\n",
       "    <tr>\n",
       "      <th>0</th>\n",
       "      <td>서울특별시 강남구 개포동</td>\n",
       "      <td>170-18</td>\n",
       "      <td>170</td>\n",
       "      <td>18</td>\n",
       "      <td>(170-18)</td>\n",
       "      <td>26.60</td>\n",
       "      <td>21.53</td>\n",
       "      <td>201007</td>\n",
       "      <td>13</td>\n",
       "      <td>293500000</td>\n",
       "      <td>1</td>\n",
       "      <td>1988.0</td>\n",
       "      <td>선릉로12길 17</td>\n",
       "      <td>강남구_(170-18)</td>\n",
       "      <td>강남구_선릉로12길 17</td>\n",
       "      <td>48.13</td>\n",
       "      <td>강남구_선릉로12길 17_26.6</td>\n",
       "      <td>55.266985</td>\n",
       "    </tr>\n",
       "    <tr>\n",
       "      <th>1</th>\n",
       "      <td>서울특별시 강남구 개포동</td>\n",
       "      <td>1219-11</td>\n",
       "      <td>1219</td>\n",
       "      <td>11</td>\n",
       "      <td>강남하이츠</td>\n",
       "      <td>39.90</td>\n",
       "      <td>19.33</td>\n",
       "      <td>201001</td>\n",
       "      <td>22</td>\n",
       "      <td>215000000</td>\n",
       "      <td>1</td>\n",
       "      <td>1993.0</td>\n",
       "      <td>개포로20길 35</td>\n",
       "      <td>강남구_강남하이츠</td>\n",
       "      <td>강남구_개포로20길 35</td>\n",
       "      <td>59.23</td>\n",
       "      <td>강남구_개포로20길 35_39.9</td>\n",
       "      <td>67.364511</td>\n",
       "    </tr>\n",
       "    <tr>\n",
       "      <th>2</th>\n",
       "      <td>서울특별시 강남구 개포동</td>\n",
       "      <td>1202-2</td>\n",
       "      <td>1202</td>\n",
       "      <td>2</td>\n",
       "      <td>경모하이츠</td>\n",
       "      <td>51.69</td>\n",
       "      <td>21.20</td>\n",
       "      <td>201003</td>\n",
       "      <td>12</td>\n",
       "      <td>285000000</td>\n",
       "      <td>1</td>\n",
       "      <td>1991.0</td>\n",
       "      <td>개포로22길 41-6</td>\n",
       "      <td>강남구_경모하이츠</td>\n",
       "      <td>강남구_개포로22길 41-6</td>\n",
       "      <td>72.89</td>\n",
       "      <td>강남구_개포로22길 41-6_51.69</td>\n",
       "      <td>70.915078</td>\n",
       "    </tr>\n",
       "    <tr>\n",
       "      <th>3</th>\n",
       "      <td>서울특별시 강남구 개포동</td>\n",
       "      <td>1235-16</td>\n",
       "      <td>1235</td>\n",
       "      <td>16</td>\n",
       "      <td>광현빌라</td>\n",
       "      <td>62.76</td>\n",
       "      <td>34.53</td>\n",
       "      <td>201001</td>\n",
       "      <td>22</td>\n",
       "      <td>365000000</td>\n",
       "      <td>2</td>\n",
       "      <td>2001.0</td>\n",
       "      <td>논현로18길 10-13</td>\n",
       "      <td>강남구_광현빌라</td>\n",
       "      <td>강남구_논현로18길 10-13</td>\n",
       "      <td>97.29</td>\n",
       "      <td>강남구_논현로18길 10-13_62.76</td>\n",
       "      <td>64.508171</td>\n",
       "    </tr>\n",
       "    <tr>\n",
       "      <th>4</th>\n",
       "      <td>서울특별시 강남구 개포동</td>\n",
       "      <td>1235-16</td>\n",
       "      <td>1235</td>\n",
       "      <td>16</td>\n",
       "      <td>광현빌라</td>\n",
       "      <td>77.34</td>\n",
       "      <td>42.55</td>\n",
       "      <td>201011</td>\n",
       "      <td>2</td>\n",
       "      <td>442000000</td>\n",
       "      <td>4</td>\n",
       "      <td>2001.0</td>\n",
       "      <td>논현로18길 10-13</td>\n",
       "      <td>강남구_광현빌라</td>\n",
       "      <td>강남구_논현로18길 10-13</td>\n",
       "      <td>119.89</td>\n",
       "      <td>강남구_논현로18길 10-13_77.34</td>\n",
       "      <td>64.509133</td>\n",
       "    </tr>\n",
       "  </tbody>\n",
       "</table>\n",
       "</div>"
      ],
      "text/plain": [
       "             시군구       번지    본번  부번       건물명   전용면적  대지권면적    계약년월  계약일  \\\n",
       "0  서울특별시 강남구 개포동   170-18   170  18  (170-18)  26.60  21.53  201007   13   \n",
       "1  서울특별시 강남구 개포동  1219-11  1219  11     강남하이츠  39.90  19.33  201001   22   \n",
       "2  서울특별시 강남구 개포동   1202-2  1202   2     경모하이츠  51.69  21.20  201003   12   \n",
       "3  서울특별시 강남구 개포동  1235-16  1235  16      광현빌라  62.76  34.53  201001   22   \n",
       "4  서울특별시 강남구 개포동  1235-16  1235  16      광현빌라  77.34  42.55  201011    2   \n",
       "\n",
       "        거래금액  층    건축년도           도로명         동_건물명             동_도로명    공급면적  \\\n",
       "0  293500000  1  1988.0     선릉로12길 17  강남구_(170-18)     강남구_선릉로12길 17   48.13   \n",
       "1  215000000  1  1993.0     개포로20길 35     강남구_강남하이츠     강남구_개포로20길 35   59.23   \n",
       "2  285000000  1  1991.0   개포로22길 41-6     강남구_경모하이츠   강남구_개포로22길 41-6   72.89   \n",
       "3  365000000  2  2001.0  논현로18길 10-13      강남구_광현빌라  강남구_논현로18길 10-13   97.29   \n",
       "4  442000000  4  2001.0  논현로18길 10-13      강남구_광현빌라  강남구_논현로18길 10-13  119.89   \n",
       "\n",
       "                     매물구분        용적률  \n",
       "0      강남구_선릉로12길 17_26.6  55.266985  \n",
       "1      강남구_개포로20길 35_39.9  67.364511  \n",
       "2   강남구_개포로22길 41-6_51.69  70.915078  \n",
       "3  강남구_논현로18길 10-13_62.76  64.508171  \n",
       "4  강남구_논현로18길 10-13_77.34  64.509133  "
      ]
     },
     "execution_count": 14,
     "metadata": {},
     "output_type": "execute_result"
    }
   ],
   "source": [
    "df['용적률'] = (df['전용면적'] / df['공급면적']) * 100\n",
    "df.head()"
   ]
  },
  {
   "cell_type": "code",
   "execution_count": 15,
   "id": "major-cheese",
   "metadata": {},
   "outputs": [],
   "source": [
    "df['최종거래월'] = df.groupby(['매물구분'])['계약년월'].shift(1)\n",
    "df['최종거래월_월'] = df['계약년월'] - df['최종거래월']"
   ]
  },
  {
   "cell_type": "code",
   "execution_count": 16,
   "id": "norman-divorce",
   "metadata": {},
   "outputs": [],
   "source": [
    "df['최종거래월'] = df.groupby(['매물구분'])['계약년월'].shift(1)\n",
    "df['최종거래월_월'] = df['계약년월'] - df['최종거래월']"
   ]
  },
  {
   "cell_type": "code",
   "execution_count": null,
   "id": "entire-paste",
   "metadata": {},
   "outputs": [],
   "source": [
    "df['최종거래가_1'] = df['거래금액'] / df['전용면적']\n",
    "df['최종거래가_1'] = df.groupby(['매물구분'])['최종거래가_1'].shift(1)\n",
    "\n",
    "df['최종거래가_3'] = df['거래금액'] / df['전용면적']\n",
    "df['최종거래가_3'] = df.groupby(['매물구분'])['최종거래가_3'].shift(1)\n",
    "\n",
    "df['최종면적'] = df.groupby(['매물구분'])['계약년월']\n"
   ]
  },
  {
   "cell_type": "code",
   "execution_count": null,
   "id": "adaptive-uganda",
   "metadata": {},
   "outputs": [],
   "source": [
    "df.isna().sum()"
   ]
  },
  {
   "cell_type": "code",
   "execution_count": null,
   "id": "worthy-affiliate",
   "metadata": {},
   "outputs": [],
   "source": [
    "df.drop(['번지', '본번', '부번', '건물명', '전용면적', '대지권면적', '계약년월', '계약일', '건축년도', '도로명', '매물구분', '최종거래월'], axis=1)\n",
    "df.head()"
   ]
  },
  {
   "cell_type": "code",
   "execution_count": null,
   "id": "organized-applicant",
   "metadata": {},
   "outputs": [],
   "source": [
    "df.dropna(inplace=True)"
   ]
  },
  {
   "cell_type": "code",
   "execution_count": null,
   "id": "front-chapter",
   "metadata": {},
   "outputs": [],
   "source": [
    "df['구'] = df['시군구'].str.split(' ', expand=True)[1]"
   ]
  },
  {
   "cell_type": "code",
   "execution_count": null,
   "id": "tired-ceremony",
   "metadata": {},
   "outputs": [],
   "source": [
    "df['구'].value_counts()"
   ]
  },
  {
   "cell_type": "code",
   "execution_count": null,
   "id": "agreed-monaco",
   "metadata": {},
   "outputs": [],
   "source": [
    "df_cat = pd.get_dummies(df['구'], drop_first=True)"
   ]
  },
  {
   "cell_type": "code",
   "execution_count": null,
   "id": "hollow-shopper",
   "metadata": {},
   "outputs": [],
   "source": [
    "df.columns"
   ]
  },
  {
   "cell_type": "code",
   "execution_count": null,
   "id": "institutional-screen",
   "metadata": {},
   "outputs": [],
   "source": [
    "df = df.drop(['시군구', '번지', '본번', '부번', '건물명', '도로명', '동_건물명', '동_도로명', '공급면적', '매물구분', '구'], axis=1)"
   ]
  },
  {
   "cell_type": "code",
   "execution_count": null,
   "id": "scheduled-stock",
   "metadata": {},
   "outputs": [],
   "source": [
    "df = pd.concat([df, df_cat], axis=1)"
   ]
  },
  {
   "cell_type": "code",
   "execution_count": null,
   "id": "given-collar",
   "metadata": {},
   "outputs": [],
   "source": [
    "df.isna().sum()"
   ]
  },
  {
   "cell_type": "code",
   "execution_count": null,
   "id": "promising-bahamas",
   "metadata": {
    "scrolled": false
   },
   "outputs": [],
   "source": [
    "import matplotlib.pyplot as plt\n",
    "corr = df.corr(method='pearson')\n",
    "sns.set(font=\"AppleGothic\", \n",
    "        rc={\"axes.unicode_minus\":False},\n",
    "        style='darkgrid')\n",
    "plt.rc('font', family = 'Malgun Gothic')\n",
    "sns.heatmap(corr,annot=False, cmap = 'coolwarm')\n",
    "plt.show()"
   ]
  },
  {
   "cell_type": "code",
   "execution_count": null,
   "id": "known-speech",
   "metadata": {},
   "outputs": [],
   "source": [
    "X = df.drop('거래금액', axis=1)\n",
    "y = df['거래금액']"
   ]
  },
  {
   "cell_type": "code",
   "execution_count": null,
   "id": "peripheral-effects",
   "metadata": {},
   "outputs": [],
   "source": [
    "from sklearn.model_selection import train_test_split\n",
    "X_train, X_test, y_train, y_test = train_test_split(X, y,\n",
    "                                                   test_size = 0.3, random_state = 10)\n",
    "print(X_train)\n",
    "print(X_test.shape)\n",
    "print(y_train.shape)\n",
    "print(y_test.shape)\n",
    "print(len(X_train) + len(X_test))"
   ]
  },
  {
   "cell_type": "code",
   "execution_count": null,
   "id": "aboriginal-novelty",
   "metadata": {},
   "outputs": [],
   "source": [
    "y_train = np.log1p(y_train)\n",
    "sns.distplot(y_train)"
   ]
  },
  {
   "cell_type": "code",
   "execution_count": null,
   "id": "planned-consumption",
   "metadata": {},
   "outputs": [],
   "source": [
    "from xgboost import XGBRegressor\n",
    "from sklearn import metrics"
   ]
  },
  {
   "cell_type": "code",
   "execution_count": null,
   "id": "united-vector",
   "metadata": {},
   "outputs": [],
   "source": [
    "xgb = XGBRegressor()\n",
    "xgb.fit(X_train, y_train)"
   ]
  },
  {
   "cell_type": "code",
   "execution_count": null,
   "id": "compressed-actor",
   "metadata": {},
   "outputs": [],
   "source": []
  }
 ],
 "metadata": {
  "kernelspec": {
   "display_name": "Python 3",
   "language": "python",
   "name": "python3"
  },
  "language_info": {
   "codemirror_mode": {
    "name": "ipython",
    "version": 3
   },
   "file_extension": ".py",
   "mimetype": "text/x-python",
   "name": "python",
   "nbconvert_exporter": "python",
   "pygments_lexer": "ipython3",
   "version": "3.8.5"
  }
 },
 "nbformat": 4,
 "nbformat_minor": 5
}
