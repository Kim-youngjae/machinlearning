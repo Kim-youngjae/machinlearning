{
 "cells": [
  {
   "cell_type": "markdown",
   "metadata": {},
   "source": [
    "# Chapter4. Dimensionality Reduction PCA"
   ]
  },
  {
   "cell_type": "markdown",
   "metadata": {},
   "source": [
    "> - LDA: Linear Discrimiant Analysis\n",
    "> - NMF: Non-negative Matrix Factorization\n",
    "> - SVD: Singluar Value Decomposition\n",
    "> - ICA: Independent Component Analysis"
   ]
  },
  {
   "cell_type": "markdown",
   "metadata": {},
   "source": [
    "## Stastics Descriptive with Pandas"
   ]
  },
  {
   "cell_type": "code",
   "execution_count": 1,
   "metadata": {},
   "outputs": [],
   "source": [
    "import pandas as pd\n",
    "import numpy as np\n",
    "import matplotlib.pyplot as plt"
   ]
  },
  {
   "cell_type": "code",
   "execution_count": 2,
   "metadata": {},
   "outputs": [
    {
     "data": {
      "text/html": [
       "<div>\n",
       "<style scoped>\n",
       "    .dataframe tbody tr th:only-of-type {\n",
       "        vertical-align: middle;\n",
       "    }\n",
       "\n",
       "    .dataframe tbody tr th {\n",
       "        vertical-align: top;\n",
       "    }\n",
       "\n",
       "    .dataframe thead th {\n",
       "        text-align: right;\n",
       "    }\n",
       "</style>\n",
       "<table border=\"1\" class=\"dataframe\">\n",
       "  <thead>\n",
       "    <tr style=\"text-align: right;\">\n",
       "      <th></th>\n",
       "      <th>A</th>\n",
       "      <th>P</th>\n",
       "      <th>C</th>\n",
       "      <th>LK</th>\n",
       "      <th>WK</th>\n",
       "      <th>A_Coef</th>\n",
       "      <th>LKG</th>\n",
       "      <th>target</th>\n",
       "    </tr>\n",
       "  </thead>\n",
       "  <tbody>\n",
       "    <tr>\n",
       "      <th>0</th>\n",
       "      <td>15.26</td>\n",
       "      <td>14.84</td>\n",
       "      <td>0.8710</td>\n",
       "      <td>5.763</td>\n",
       "      <td>3.312</td>\n",
       "      <td>2.221</td>\n",
       "      <td>5.220</td>\n",
       "      <td>0</td>\n",
       "    </tr>\n",
       "    <tr>\n",
       "      <th>1</th>\n",
       "      <td>14.88</td>\n",
       "      <td>14.57</td>\n",
       "      <td>0.8811</td>\n",
       "      <td>5.554</td>\n",
       "      <td>3.333</td>\n",
       "      <td>1.018</td>\n",
       "      <td>4.956</td>\n",
       "      <td>0</td>\n",
       "    </tr>\n",
       "    <tr>\n",
       "      <th>2</th>\n",
       "      <td>14.29</td>\n",
       "      <td>14.09</td>\n",
       "      <td>0.9050</td>\n",
       "      <td>5.291</td>\n",
       "      <td>3.337</td>\n",
       "      <td>2.699</td>\n",
       "      <td>4.825</td>\n",
       "      <td>0</td>\n",
       "    </tr>\n",
       "    <tr>\n",
       "      <th>3</th>\n",
       "      <td>13.84</td>\n",
       "      <td>13.94</td>\n",
       "      <td>0.8955</td>\n",
       "      <td>5.324</td>\n",
       "      <td>3.379</td>\n",
       "      <td>2.259</td>\n",
       "      <td>4.805</td>\n",
       "      <td>0</td>\n",
       "    </tr>\n",
       "    <tr>\n",
       "      <th>4</th>\n",
       "      <td>16.14</td>\n",
       "      <td>14.99</td>\n",
       "      <td>0.9034</td>\n",
       "      <td>5.658</td>\n",
       "      <td>3.562</td>\n",
       "      <td>1.355</td>\n",
       "      <td>5.175</td>\n",
       "      <td>0</td>\n",
       "    </tr>\n",
       "  </tbody>\n",
       "</table>\n",
       "</div>"
      ],
      "text/plain": [
       "       A      P       C     LK     WK  A_Coef    LKG  target\n",
       "0  15.26  14.84  0.8710  5.763  3.312   2.221  5.220       0\n",
       "1  14.88  14.57  0.8811  5.554  3.333   1.018  4.956       0\n",
       "2  14.29  14.09  0.9050  5.291  3.337   2.699  4.825       0\n",
       "3  13.84  13.94  0.8955  5.324  3.379   2.259  4.805       0\n",
       "4  16.14  14.99  0.9034  5.658  3.562   1.355  5.175       0"
      ]
     },
     "execution_count": 2,
     "metadata": {},
     "output_type": "execute_result"
    }
   ],
   "source": [
    "df = pd.read_csv('data/Seed_Data.csv')\n",
    "df.head()"
   ]
  },
  {
   "cell_type": "code",
   "execution_count": 3,
   "metadata": {},
   "outputs": [
    {
     "data": {
      "text/html": [
       "<div>\n",
       "<style scoped>\n",
       "    .dataframe tbody tr th:only-of-type {\n",
       "        vertical-align: middle;\n",
       "    }\n",
       "\n",
       "    .dataframe tbody tr th {\n",
       "        vertical-align: top;\n",
       "    }\n",
       "\n",
       "    .dataframe thead th {\n",
       "        text-align: right;\n",
       "    }\n",
       "</style>\n",
       "<table border=\"1\" class=\"dataframe\">\n",
       "  <thead>\n",
       "    <tr style=\"text-align: right;\">\n",
       "      <th></th>\n",
       "      <th>A</th>\n",
       "      <th>LK</th>\n",
       "    </tr>\n",
       "  </thead>\n",
       "  <tbody>\n",
       "    <tr>\n",
       "      <th>0</th>\n",
       "      <td>15.26</td>\n",
       "      <td>5.763</td>\n",
       "    </tr>\n",
       "    <tr>\n",
       "      <th>1</th>\n",
       "      <td>14.88</td>\n",
       "      <td>5.554</td>\n",
       "    </tr>\n",
       "    <tr>\n",
       "      <th>2</th>\n",
       "      <td>14.29</td>\n",
       "      <td>5.291</td>\n",
       "    </tr>\n",
       "    <tr>\n",
       "      <th>3</th>\n",
       "      <td>13.84</td>\n",
       "      <td>5.324</td>\n",
       "    </tr>\n",
       "    <tr>\n",
       "      <th>4</th>\n",
       "      <td>16.14</td>\n",
       "      <td>5.658</td>\n",
       "    </tr>\n",
       "  </tbody>\n",
       "</table>\n",
       "</div>"
      ],
      "text/plain": [
       "       A     LK\n",
       "0  15.26  5.763\n",
       "1  14.88  5.554\n",
       "2  14.29  5.291\n",
       "3  13.84  5.324\n",
       "4  16.14  5.658"
      ]
     },
     "execution_count": 3,
     "metadata": {},
     "output_type": "execute_result"
    }
   ],
   "source": [
    "df = df[['A', 'LK']]\n",
    "df.head()"
   ]
  },
  {
   "cell_type": "code",
   "execution_count": 4,
   "metadata": {},
   "outputs": [
    {
     "data": {
      "image/png": "[encoded data removed]",
      "text/plain": [
       "<Figure size 720x504 with 1 Axes>"
      ]
     },
     "metadata": {
      "needs_background": "light"
     },
     "output_type": "display_data"
    }
   ],
   "source": [
    "plt.figure(figsize=(10, 7))\n",
    "plt.scatter(df['A'], df['LK'])\n",
    "plt.xlabel('Area of Kernel')\n",
    "plt.ylabel('Length of Kernel')\n",
    "plt.title('Kernel Area versus Length')\n",
    "plt.show()"
   ]
  },
  {
   "cell_type": "code",
   "execution_count": 5,
   "metadata": {},
   "outputs": [
    {
     "data": {
      "text/plain": [
       "A     14.847524\n",
       "LK     5.628533\n",
       "dtype: float64"
      ]
     },
     "execution_count": 5,
     "metadata": {},
     "output_type": "execute_result"
    }
   ],
   "source": [
    "df.mean()"
   ]
  },
  {
   "cell_type": "code",
   "execution_count": 6,
   "metadata": {},
   "outputs": [
    {
     "data": {
      "text/plain": [
       "array([14.84752381,  5.62853333])"
      ]
     },
     "execution_count": 6,
     "metadata": {},
     "output_type": "execute_result"
    }
   ],
   "source": [
    "np.mean(df.values, axis=0)"
   ]
  },
  {
   "cell_type": "code",
   "execution_count": 7,
   "metadata": {},
   "outputs": [
    {
     "data": {
      "text/plain": [
       "A     2.909699\n",
       "LK    0.443063\n",
       "dtype: float64"
      ]
     },
     "execution_count": 7,
     "metadata": {},
     "output_type": "execute_result"
    }
   ],
   "source": [
    "df.std()"
   ]
  },
  {
   "cell_type": "code",
   "execution_count": 8,
   "metadata": {},
   "outputs": [
    {
     "data": {
      "text/plain": [
       "array([2.90276331, 0.44200731])"
      ]
     },
     "execution_count": 8,
     "metadata": {},
     "output_type": "execute_result"
    }
   ],
   "source": [
    "np.std(df.values, axis=0)"
   ]
  },
  {
   "cell_type": "code",
   "execution_count": 9,
   "metadata": {},
   "outputs": [
    {
     "data": {
      "text/plain": [
       "A     8.466351\n",
       "LK    0.196305\n",
       "dtype: float64"
      ]
     },
     "execution_count": 9,
     "metadata": {},
     "output_type": "execute_result"
    }
   ],
   "source": [
    "df.var()"
   ]
  },
  {
   "cell_type": "code",
   "execution_count": 10,
   "metadata": {},
   "outputs": [
    {
     "data": {
      "text/plain": [
       "array([8.42603482, 0.19537046])"
      ]
     },
     "execution_count": 10,
     "metadata": {},
     "output_type": "execute_result"
    }
   ],
   "source": [
    "np.var(df.values, axis=0)"
   ]
  },
  {
   "cell_type": "code",
   "execution_count": 11,
   "metadata": {},
   "outputs": [
    {
     "data": {
      "text/html": [
       "<div>\n",
       "<style scoped>\n",
       "    .dataframe tbody tr th:only-of-type {\n",
       "        vertical-align: middle;\n",
       "    }\n",
       "\n",
       "    .dataframe tbody tr th {\n",
       "        vertical-align: top;\n",
       "    }\n",
       "\n",
       "    .dataframe thead th {\n",
       "        text-align: right;\n",
       "    }\n",
       "</style>\n",
       "<table border=\"1\" class=\"dataframe\">\n",
       "  <thead>\n",
       "    <tr style=\"text-align: right;\">\n",
       "      <th></th>\n",
       "      <th>A</th>\n",
       "      <th>LK</th>\n",
       "    </tr>\n",
       "  </thead>\n",
       "  <tbody>\n",
       "    <tr>\n",
       "      <th>A</th>\n",
       "      <td>8.466351</td>\n",
       "      <td>1.224704</td>\n",
       "    </tr>\n",
       "    <tr>\n",
       "      <th>LK</th>\n",
       "      <td>1.224704</td>\n",
       "      <td>0.196305</td>\n",
       "    </tr>\n",
       "  </tbody>\n",
       "</table>\n",
       "</div>"
      ],
      "text/plain": [
       "           A        LK\n",
       "A   8.466351  1.224704\n",
       "LK  1.224704  0.196305"
      ]
     },
     "execution_count": 11,
     "metadata": {},
     "output_type": "execute_result"
    }
   ],
   "source": [
    "df.cov()"
   ]
  },
  {
   "cell_type": "code",
   "execution_count": 12,
   "metadata": {},
   "outputs": [
    {
     "data": {
      "text/plain": [
       "array([[8.46635078, 1.22470367],\n",
       "       [1.22470367, 0.19630525]])"
      ]
     },
     "execution_count": 12,
     "metadata": {},
     "output_type": "execute_result"
    }
   ],
   "source": [
    "np.cov(df.values.T)"
   ]
  },
  {
   "cell_type": "markdown",
   "metadata": {},
   "source": [
    "## Eigenvalues & Eigenvectors"
   ]
  },
  {
   "cell_type": "code",
   "execution_count": 13,
   "metadata": {},
   "outputs": [
    {
     "data": {
      "text/html": [
       "<div>\n",
       "<style scoped>\n",
       "    .dataframe tbody tr th:only-of-type {\n",
       "        vertical-align: middle;\n",
       "    }\n",
       "\n",
       "    .dataframe tbody tr th {\n",
       "        vertical-align: top;\n",
       "    }\n",
       "\n",
       "    .dataframe thead th {\n",
       "        text-align: right;\n",
       "    }\n",
       "</style>\n",
       "<table border=\"1\" class=\"dataframe\">\n",
       "  <thead>\n",
       "    <tr style=\"text-align: right;\">\n",
       "      <th></th>\n",
       "      <th>A</th>\n",
       "      <th>P</th>\n",
       "      <th>C</th>\n",
       "      <th>LK</th>\n",
       "      <th>WK</th>\n",
       "      <th>A_Coef</th>\n",
       "      <th>LKG</th>\n",
       "      <th>target</th>\n",
       "    </tr>\n",
       "  </thead>\n",
       "  <tbody>\n",
       "    <tr>\n",
       "      <th>0</th>\n",
       "      <td>15.26</td>\n",
       "      <td>14.84</td>\n",
       "      <td>0.8710</td>\n",
       "      <td>5.763</td>\n",
       "      <td>3.312</td>\n",
       "      <td>2.221</td>\n",
       "      <td>5.220</td>\n",
       "      <td>0</td>\n",
       "    </tr>\n",
       "    <tr>\n",
       "      <th>1</th>\n",
       "      <td>14.88</td>\n",
       "      <td>14.57</td>\n",
       "      <td>0.8811</td>\n",
       "      <td>5.554</td>\n",
       "      <td>3.333</td>\n",
       "      <td>1.018</td>\n",
       "      <td>4.956</td>\n",
       "      <td>0</td>\n",
       "    </tr>\n",
       "    <tr>\n",
       "      <th>2</th>\n",
       "      <td>14.29</td>\n",
       "      <td>14.09</td>\n",
       "      <td>0.9050</td>\n",
       "      <td>5.291</td>\n",
       "      <td>3.337</td>\n",
       "      <td>2.699</td>\n",
       "      <td>4.825</td>\n",
       "      <td>0</td>\n",
       "    </tr>\n",
       "    <tr>\n",
       "      <th>3</th>\n",
       "      <td>13.84</td>\n",
       "      <td>13.94</td>\n",
       "      <td>0.8955</td>\n",
       "      <td>5.324</td>\n",
       "      <td>3.379</td>\n",
       "      <td>2.259</td>\n",
       "      <td>4.805</td>\n",
       "      <td>0</td>\n",
       "    </tr>\n",
       "    <tr>\n",
       "      <th>4</th>\n",
       "      <td>16.14</td>\n",
       "      <td>14.99</td>\n",
       "      <td>0.9034</td>\n",
       "      <td>5.658</td>\n",
       "      <td>3.562</td>\n",
       "      <td>1.355</td>\n",
       "      <td>5.175</td>\n",
       "      <td>0</td>\n",
       "    </tr>\n",
       "  </tbody>\n",
       "</table>\n",
       "</div>"
      ],
      "text/plain": [
       "       A      P       C     LK     WK  A_Coef    LKG  target\n",
       "0  15.26  14.84  0.8710  5.763  3.312   2.221  5.220       0\n",
       "1  14.88  14.57  0.8811  5.554  3.333   1.018  4.956       0\n",
       "2  14.29  14.09  0.9050  5.291  3.337   2.699  4.825       0\n",
       "3  13.84  13.94  0.8955  5.324  3.379   2.259  4.805       0\n",
       "4  16.14  14.99  0.9034  5.658  3.562   1.355  5.175       0"
      ]
     },
     "execution_count": 13,
     "metadata": {},
     "output_type": "execute_result"
    }
   ],
   "source": [
    "df = pd.read_csv('data/Seed_Data.csv')\n",
    "df.head()"
   ]
  },
  {
   "cell_type": "code",
   "execution_count": 14,
   "metadata": {},
   "outputs": [
    {
     "data": {
      "text/html": [
       "<div>\n",
       "<style scoped>\n",
       "    .dataframe tbody tr th:only-of-type {\n",
       "        vertical-align: middle;\n",
       "    }\n",
       "\n",
       "    .dataframe tbody tr th {\n",
       "        vertical-align: top;\n",
       "    }\n",
       "\n",
       "    .dataframe thead th {\n",
       "        text-align: right;\n",
       "    }\n",
       "</style>\n",
       "<table border=\"1\" class=\"dataframe\">\n",
       "  <thead>\n",
       "    <tr style=\"text-align: right;\">\n",
       "      <th></th>\n",
       "      <th>A</th>\n",
       "      <th>LK</th>\n",
       "    </tr>\n",
       "  </thead>\n",
       "  <tbody>\n",
       "    <tr>\n",
       "      <th>0</th>\n",
       "      <td>15.26</td>\n",
       "      <td>5.763</td>\n",
       "    </tr>\n",
       "    <tr>\n",
       "      <th>1</th>\n",
       "      <td>14.88</td>\n",
       "      <td>5.554</td>\n",
       "    </tr>\n",
       "    <tr>\n",
       "      <th>2</th>\n",
       "      <td>14.29</td>\n",
       "      <td>5.291</td>\n",
       "    </tr>\n",
       "    <tr>\n",
       "      <th>3</th>\n",
       "      <td>13.84</td>\n",
       "      <td>5.324</td>\n",
       "    </tr>\n",
       "    <tr>\n",
       "      <th>4</th>\n",
       "      <td>16.14</td>\n",
       "      <td>5.658</td>\n",
       "    </tr>\n",
       "  </tbody>\n",
       "</table>\n",
       "</div>"
      ],
      "text/plain": [
       "       A     LK\n",
       "0  15.26  5.763\n",
       "1  14.88  5.554\n",
       "2  14.29  5.291\n",
       "3  13.84  5.324\n",
       "4  16.14  5.658"
      ]
     },
     "execution_count": 14,
     "metadata": {},
     "output_type": "execute_result"
    }
   ],
   "source": [
    "df = df[['A', 'LK']]\n",
    "df.head()"
   ]
  },
  {
   "cell_type": "markdown",
   "metadata": {},
   "source": [
    "### numpy `linalg.eig` 함수 사용"
   ]
  },
  {
   "cell_type": "code",
   "execution_count": 15,
   "metadata": {},
   "outputs": [],
   "source": [
    "eigenvalues, eigenvectors = np.linalg.eig(np.cov(df.T))"
   ]
  },
  {
   "cell_type": "code",
   "execution_count": 16,
   "metadata": {},
   "outputs": [
    {
     "data": {
      "text/plain": [
       "array([8.64390408, 0.01875194])"
      ]
     },
     "execution_count": 16,
     "metadata": {},
     "output_type": "execute_result"
    }
   ],
   "source": [
    "eigenvalues"
   ]
  },
  {
   "cell_type": "code",
   "execution_count": 17,
   "metadata": {},
   "outputs": [
    {
     "data": {
      "text/plain": [
       "array([8.64390408, 8.66265602])"
      ]
     },
     "execution_count": 17,
     "metadata": {},
     "output_type": "execute_result"
    }
   ],
   "source": [
    "eigenvalues = np.cumsum(eigenvalues)\n",
    "eigenvalues"
   ]
  },
  {
   "cell_type": "code",
   "execution_count": 18,
   "metadata": {},
   "outputs": [
    {
     "data": {
      "text/plain": [
       "array([0.99783531, 1.        ])"
      ]
     },
     "execution_count": 18,
     "metadata": {},
     "output_type": "execute_result"
    }
   ],
   "source": [
    "eigenvalues /= eigenvalues.max()\n",
    "eigenvalues"
   ]
  },
  {
   "cell_type": "code",
   "execution_count": 19,
   "metadata": {},
   "outputs": [
    {
     "data": {
      "text/plain": [
       "array([[ 0.98965371, -0.14347657],\n",
       "       [ 0.14347657,  0.98965371]])"
      ]
     },
     "execution_count": 19,
     "metadata": {},
     "output_type": "execute_result"
    }
   ],
   "source": [
    "eigenvectors"
   ]
  },
  {
   "cell_type": "code",
   "execution_count": 20,
   "metadata": {},
   "outputs": [
    {
     "data": {
      "text/plain": [
       "(2, 2)"
      ]
     },
     "execution_count": 20,
     "metadata": {},
     "output_type": "execute_result"
    }
   ],
   "source": [
    "eigenvectors.shape"
   ]
  },
  {
   "cell_type": "code",
   "execution_count": 21,
   "metadata": {},
   "outputs": [
    {
     "data": {
      "text/plain": [
       "array([ 0.98965371, -0.14347657])"
      ]
     },
     "execution_count": 21,
     "metadata": {},
     "output_type": "execute_result"
    }
   ],
   "source": [
    "P = eigenvectors[0]\n",
    "P"
   ]
  },
  {
   "cell_type": "markdown",
   "metadata": {},
   "source": [
    "## PCA Scratch"
   ]
  },
  {
   "cell_type": "code",
   "execution_count": 22,
   "metadata": {},
   "outputs": [
    {
     "data": {
      "text/html": [
       "<div>\n",
       "<style scoped>\n",
       "    .dataframe tbody tr th:only-of-type {\n",
       "        vertical-align: middle;\n",
       "    }\n",
       "\n",
       "    .dataframe tbody tr th {\n",
       "        vertical-align: top;\n",
       "    }\n",
       "\n",
       "    .dataframe thead th {\n",
       "        text-align: right;\n",
       "    }\n",
       "</style>\n",
       "<table border=\"1\" class=\"dataframe\">\n",
       "  <thead>\n",
       "    <tr style=\"text-align: right;\">\n",
       "      <th></th>\n",
       "      <th>A</th>\n",
       "      <th>P</th>\n",
       "      <th>C</th>\n",
       "      <th>LK</th>\n",
       "      <th>WK</th>\n",
       "      <th>A_Coef</th>\n",
       "      <th>LKG</th>\n",
       "      <th>target</th>\n",
       "    </tr>\n",
       "  </thead>\n",
       "  <tbody>\n",
       "    <tr>\n",
       "      <th>0</th>\n",
       "      <td>15.26</td>\n",
       "      <td>14.84</td>\n",
       "      <td>0.8710</td>\n",
       "      <td>5.763</td>\n",
       "      <td>3.312</td>\n",
       "      <td>2.221</td>\n",
       "      <td>5.220</td>\n",
       "      <td>0</td>\n",
       "    </tr>\n",
       "    <tr>\n",
       "      <th>1</th>\n",
       "      <td>14.88</td>\n",
       "      <td>14.57</td>\n",
       "      <td>0.8811</td>\n",
       "      <td>5.554</td>\n",
       "      <td>3.333</td>\n",
       "      <td>1.018</td>\n",
       "      <td>4.956</td>\n",
       "      <td>0</td>\n",
       "    </tr>\n",
       "    <tr>\n",
       "      <th>2</th>\n",
       "      <td>14.29</td>\n",
       "      <td>14.09</td>\n",
       "      <td>0.9050</td>\n",
       "      <td>5.291</td>\n",
       "      <td>3.337</td>\n",
       "      <td>2.699</td>\n",
       "      <td>4.825</td>\n",
       "      <td>0</td>\n",
       "    </tr>\n",
       "    <tr>\n",
       "      <th>3</th>\n",
       "      <td>13.84</td>\n",
       "      <td>13.94</td>\n",
       "      <td>0.8955</td>\n",
       "      <td>5.324</td>\n",
       "      <td>3.379</td>\n",
       "      <td>2.259</td>\n",
       "      <td>4.805</td>\n",
       "      <td>0</td>\n",
       "    </tr>\n",
       "    <tr>\n",
       "      <th>4</th>\n",
       "      <td>16.14</td>\n",
       "      <td>14.99</td>\n",
       "      <td>0.9034</td>\n",
       "      <td>5.658</td>\n",
       "      <td>3.562</td>\n",
       "      <td>1.355</td>\n",
       "      <td>5.175</td>\n",
       "      <td>0</td>\n",
       "    </tr>\n",
       "  </tbody>\n",
       "</table>\n",
       "</div>"
      ],
      "text/plain": [
       "       A      P       C     LK     WK  A_Coef    LKG  target\n",
       "0  15.26  14.84  0.8710  5.763  3.312   2.221  5.220       0\n",
       "1  14.88  14.57  0.8811  5.554  3.333   1.018  4.956       0\n",
       "2  14.29  14.09  0.9050  5.291  3.337   2.699  4.825       0\n",
       "3  13.84  13.94  0.8955  5.324  3.379   2.259  4.805       0\n",
       "4  16.14  14.99  0.9034  5.658  3.562   1.355  5.175       0"
      ]
     },
     "execution_count": 22,
     "metadata": {},
     "output_type": "execute_result"
    }
   ],
   "source": [
    "df = pd.read_csv('data/Seed_Data.csv')\n",
    "df.head()"
   ]
  },
  {
   "cell_type": "code",
   "execution_count": 23,
   "metadata": {},
   "outputs": [
    {
     "data": {
      "text/html": [
       "<div>\n",
       "<style scoped>\n",
       "    .dataframe tbody tr th:only-of-type {\n",
       "        vertical-align: middle;\n",
       "    }\n",
       "\n",
       "    .dataframe tbody tr th {\n",
       "        vertical-align: top;\n",
       "    }\n",
       "\n",
       "    .dataframe thead th {\n",
       "        text-align: right;\n",
       "    }\n",
       "</style>\n",
       "<table border=\"1\" class=\"dataframe\">\n",
       "  <thead>\n",
       "    <tr style=\"text-align: right;\">\n",
       "      <th></th>\n",
       "      <th>A</th>\n",
       "      <th>LK</th>\n",
       "    </tr>\n",
       "  </thead>\n",
       "  <tbody>\n",
       "    <tr>\n",
       "      <th>0</th>\n",
       "      <td>15.26</td>\n",
       "      <td>5.763</td>\n",
       "    </tr>\n",
       "    <tr>\n",
       "      <th>1</th>\n",
       "      <td>14.88</td>\n",
       "      <td>5.554</td>\n",
       "    </tr>\n",
       "    <tr>\n",
       "      <th>2</th>\n",
       "      <td>14.29</td>\n",
       "      <td>5.291</td>\n",
       "    </tr>\n",
       "    <tr>\n",
       "      <th>3</th>\n",
       "      <td>13.84</td>\n",
       "      <td>5.324</td>\n",
       "    </tr>\n",
       "    <tr>\n",
       "      <th>4</th>\n",
       "      <td>16.14</td>\n",
       "      <td>5.658</td>\n",
       "    </tr>\n",
       "  </tbody>\n",
       "</table>\n",
       "</div>"
      ],
      "text/plain": [
       "       A     LK\n",
       "0  15.26  5.763\n",
       "1  14.88  5.554\n",
       "2  14.29  5.291\n",
       "3  13.84  5.324\n",
       "4  16.14  5.658"
      ]
     },
     "execution_count": 23,
     "metadata": {},
     "output_type": "execute_result"
    }
   ],
   "source": [
    "df = df[['A', 'LK']]\n",
    "df.head()"
   ]
  },
  {
   "cell_type": "code",
   "execution_count": 24,
   "metadata": {},
   "outputs": [
    {
     "data": {
      "text/plain": [
       "array([[8.46635078, 1.22470367],\n",
       "       [1.22470367, 0.19630525]])"
      ]
     },
     "execution_count": 24,
     "metadata": {},
     "output_type": "execute_result"
    }
   ],
   "source": [
    "data = np.cov(df.values.T)\n",
    "# The transpose is required to ensure the covariance matrix is \n",
    "#based on features, not samples data\n",
    "data"
   ]
  },
  {
   "cell_type": "markdown",
   "metadata": {},
   "source": [
    "### Eigenvalues, Eigenvectors 계산"
   ]
  },
  {
   "cell_type": "code",
   "execution_count": 25,
   "metadata": {},
   "outputs": [],
   "source": [
    "eigenvectors, eigenvalues, _ = np.linalg.svd(data, full_matrices=False)"
   ]
  },
  {
   "cell_type": "code",
   "execution_count": 26,
   "metadata": {},
   "outputs": [
    {
     "data": {
      "text/plain": [
       "array([8.64390408, 0.01875194])"
      ]
     },
     "execution_count": 26,
     "metadata": {},
     "output_type": "execute_result"
    }
   ],
   "source": [
    "eigenvalues"
   ]
  },
  {
   "cell_type": "code",
   "execution_count": 27,
   "metadata": {},
   "outputs": [
    {
     "data": {
      "text/plain": [
       "array([[-0.98965371, -0.14347657],\n",
       "       [-0.14347657,  0.98965371]])"
      ]
     },
     "execution_count": 27,
     "metadata": {},
     "output_type": "execute_result"
    }
   ],
   "source": [
    "eigenvectors"
   ]
  },
  {
   "cell_type": "code",
   "execution_count": 28,
   "metadata": {},
   "outputs": [
    {
     "data": {
      "text/plain": [
       "array([0.99783531, 1.        ])"
      ]
     },
     "execution_count": 28,
     "metadata": {},
     "output_type": "execute_result"
    }
   ],
   "source": [
    "eigenvalues = np.cumsum(eigenvalues)\n",
    "eigenvalues /= eigenvalues.max()\n",
    "eigenvalues"
   ]
  },
  {
   "cell_type": "code",
   "execution_count": 29,
   "metadata": {},
   "outputs": [
    {
     "data": {
      "text/plain": [
       "array([-0.98965371, -0.14347657])"
      ]
     },
     "execution_count": 29,
     "metadata": {},
     "output_type": "execute_result"
    }
   ],
   "source": [
    "P = eigenvectors[0]\n",
    "P"
   ]
  },
  {
   "cell_type": "markdown",
   "metadata": {},
   "source": [
    "### Eigenvectors로 PCA(Priciple Component) 만들기"
   ]
  },
  {
   "cell_type": "code",
   "execution_count": 30,
   "metadata": {},
   "outputs": [
    {
     "data": {
      "text/plain": [
       "array([-15.92897116, -15.52291615, -14.90128612, -14.46067667,\n",
       "       -16.78480139, -15.00398523, -15.33617323, -14.74165693,\n",
       "       -17.32640496, -17.11412321, -15.92194081, -14.66506721,\n",
       "       -14.52665917, -14.42353632, -14.3843806 , -15.20679083,\n",
       "       -14.57971203, -16.32066179, -15.29470516, -13.33820381,\n",
       "       -14.82528704, -14.75600459, -16.52175236, -12.68660391,\n",
       "       -15.68528813, -16.85939248, -13.65934747, -13.38224443,\n",
       "       -14.75901759, -14.10225923, -13.8063641 , -16.15573066,\n",
       "       -14.7644764 , -14.59708943, -15.71382658, -16.77232562,\n",
       "       -16.86828468, -17.74004081, -15.45837846, -14.9065981 ,\n",
       "       -14.167224  , -14.12806828, -13.76102551, -16.18284438,\n",
       "       -15.75412342, -14.42855131, -16.01904099, -15.63407368,\n",
       "       -15.43255602, -15.52091417, -15.08201975, -16.43082168,\n",
       "       -15.16005093, -14.97143278, -15.19347093, -15.69259874,\n",
       "       -15.08344448, -15.53811128, -16.03323847, -12.72490211,\n",
       "       -12.02037609, -11.81713337, -12.96040699, -13.85727821,\n",
       "       -13.40274819, -13.48406594, -14.99940736, -14.66980863,\n",
       "       -15.0203449 , -13.37478699, -18.33585844, -17.52634103,\n",
       "       -17.93912605, -19.7952373 , -17.50927401, -17.44687843,\n",
       "       -18.01084426, -21.43966079, -19.66874785, -17.78220953,\n",
       "       -17.20190076, -19.38803782, -20.89275528, -20.28347762,\n",
       "       -20.22151582, -18.96665424, -19.55757359, -19.72325556,\n",
       "       -21.90393717, -21.58939344, -20.83625897, -19.45144108,\n",
       "       -19.51527142, -19.26383061, -19.12645702, -17.57626083,\n",
       "       -20.01999816, -19.70890791, -18.88174957, -19.41859833,\n",
       "       -17.06061649, -18.64894733, -20.13573356, -19.89536052,\n",
       "       -19.6503795 , -19.5013475 , -19.53764038, -18.31318914,\n",
       "       -20.69140118, -19.24088774, -19.13532245, -20.08382181,\n",
       "       -19.8191912 , -19.83999195, -21.69467513, -19.78334548,\n",
       "       -19.63201116, -19.84787982, -19.58798727, -20.75435728,\n",
       "       -20.93664573, -18.82164292, -16.82941257, -19.09730785,\n",
       "       -16.59402774, -19.43279247, -19.35879202, -18.6518202 ,\n",
       "       -20.88588179, -18.19929551, -18.96850939, -19.6255614 ,\n",
       "       -16.06509027, -16.83142458, -16.22773247, -16.00669531,\n",
       "       -18.06205201, -16.25828964, -16.27535331, -16.90457421,\n",
       "       -13.71987785, -13.97719116, -13.97517579, -12.84309   ,\n",
       "       -12.46014141, -11.85143096, -12.05437669, -13.116466  ,\n",
       "       -13.34136699, -11.44122851, -12.46272064, -12.66123198,\n",
       "       -12.90907584, -11.81327623, -11.98495745, -11.82747707,\n",
       "       -11.94766024, -12.77841218, -12.4095176 , -12.13212092,\n",
       "       -13.19234837, -12.66323731, -12.68101836, -13.18531467,\n",
       "       -11.74370348, -12.70725784, -13.07444409, -12.80150522,\n",
       "       -11.97520439, -11.8540035 , -11.66999668, -12.17184385,\n",
       "       -11.88340616, -12.01894802, -11.47521907, -11.40291692,\n",
       "       -11.88757033, -11.36706786, -12.10443328, -12.85227585,\n",
       "       -12.02224463, -13.08232861, -12.81569601, -12.2623441 ,\n",
       "       -13.54504014, -12.20986179, -12.46444905, -11.52713082,\n",
       "       -11.84396349, -11.18332456, -11.54089788, -11.88383659,\n",
       "       -12.48351136, -11.45126183, -12.73594981, -13.40790665,\n",
       "       -13.40719262, -13.99496552, -13.26563813, -13.35583804,\n",
       "       -13.00071721, -13.25399979, -11.78300268, -13.31224124,\n",
       "       -12.98866853, -12.80091793, -11.85128079, -13.81467236,\n",
       "       -12.45999124, -12.92498835])"
      ]
     },
     "execution_count": 30,
     "metadata": {},
     "output_type": "execute_result"
    }
   ],
   "source": [
    "x_t_p = P.dot(df.values.T)\n",
    "x_t_p"
   ]
  },
  {
   "cell_type": "code",
   "execution_count": 31,
   "metadata": {},
   "outputs": [
    {
     "data": {
      "image/png": "[encoded data removed]",
      "text/plain": [
       "<Figure size 720x504 with 1 Axes>"
      ]
     },
     "metadata": {
      "needs_background": "light"
     },
     "output_type": "display_data"
    }
   ],
   "source": [
    "plt.figure(figsize=(10, 7))\n",
    "plt.plot(x_t_p)\n",
    "plt.title('Principal Component of Selected Seeds Dataset')\n",
    "plt.xlabel('Sample')\n",
    "plt.ylabel('Component Value')\n",
    "plt.show()"
   ]
  },
  {
   "cell_type": "markdown",
   "metadata": {},
   "source": [
    "## Scikit-learn으로 PCA 구현"
   ]
  },
  {
   "cell_type": "code",
   "execution_count": 32,
   "metadata": {},
   "outputs": [],
   "source": [
    "import pandas as pd\n",
    "import numpy as np\n",
    "import matplotlib.pyplot as plt\n",
    "from sklearn.decomposition import PCA"
   ]
  },
  {
   "cell_type": "code",
   "execution_count": 33,
   "metadata": {},
   "outputs": [
    {
     "data": {
      "text/html": [
       "<div>\n",
       "<style scoped>\n",
       "    .dataframe tbody tr th:only-of-type {\n",
       "        vertical-align: middle;\n",
       "    }\n",
       "\n",
       "    .dataframe tbody tr th {\n",
       "        vertical-align: top;\n",
       "    }\n",
       "\n",
       "    .dataframe thead th {\n",
       "        text-align: right;\n",
       "    }\n",
       "</style>\n",
       "<table border=\"1\" class=\"dataframe\">\n",
       "  <thead>\n",
       "    <tr style=\"text-align: right;\">\n",
       "      <th></th>\n",
       "      <th>A</th>\n",
       "      <th>P</th>\n",
       "      <th>C</th>\n",
       "      <th>LK</th>\n",
       "      <th>WK</th>\n",
       "      <th>A_Coef</th>\n",
       "      <th>LKG</th>\n",
       "      <th>target</th>\n",
       "    </tr>\n",
       "  </thead>\n",
       "  <tbody>\n",
       "    <tr>\n",
       "      <th>0</th>\n",
       "      <td>15.26</td>\n",
       "      <td>14.84</td>\n",
       "      <td>0.8710</td>\n",
       "      <td>5.763</td>\n",
       "      <td>3.312</td>\n",
       "      <td>2.221</td>\n",
       "      <td>5.220</td>\n",
       "      <td>0</td>\n",
       "    </tr>\n",
       "    <tr>\n",
       "      <th>1</th>\n",
       "      <td>14.88</td>\n",
       "      <td>14.57</td>\n",
       "      <td>0.8811</td>\n",
       "      <td>5.554</td>\n",
       "      <td>3.333</td>\n",
       "      <td>1.018</td>\n",
       "      <td>4.956</td>\n",
       "      <td>0</td>\n",
       "    </tr>\n",
       "    <tr>\n",
       "      <th>2</th>\n",
       "      <td>14.29</td>\n",
       "      <td>14.09</td>\n",
       "      <td>0.9050</td>\n",
       "      <td>5.291</td>\n",
       "      <td>3.337</td>\n",
       "      <td>2.699</td>\n",
       "      <td>4.825</td>\n",
       "      <td>0</td>\n",
       "    </tr>\n",
       "    <tr>\n",
       "      <th>3</th>\n",
       "      <td>13.84</td>\n",
       "      <td>13.94</td>\n",
       "      <td>0.8955</td>\n",
       "      <td>5.324</td>\n",
       "      <td>3.379</td>\n",
       "      <td>2.259</td>\n",
       "      <td>4.805</td>\n",
       "      <td>0</td>\n",
       "    </tr>\n",
       "    <tr>\n",
       "      <th>4</th>\n",
       "      <td>16.14</td>\n",
       "      <td>14.99</td>\n",
       "      <td>0.9034</td>\n",
       "      <td>5.658</td>\n",
       "      <td>3.562</td>\n",
       "      <td>1.355</td>\n",
       "      <td>5.175</td>\n",
       "      <td>0</td>\n",
       "    </tr>\n",
       "  </tbody>\n",
       "</table>\n",
       "</div>"
      ],
      "text/plain": [
       "       A      P       C     LK     WK  A_Coef    LKG  target\n",
       "0  15.26  14.84  0.8710  5.763  3.312   2.221  5.220       0\n",
       "1  14.88  14.57  0.8811  5.554  3.333   1.018  4.956       0\n",
       "2  14.29  14.09  0.9050  5.291  3.337   2.699  4.825       0\n",
       "3  13.84  13.94  0.8955  5.324  3.379   2.259  4.805       0\n",
       "4  16.14  14.99  0.9034  5.658  3.562   1.355  5.175       0"
      ]
     },
     "execution_count": 33,
     "metadata": {},
     "output_type": "execute_result"
    }
   ],
   "source": [
    "df = pd.read_csv('data/Seed_Data.csv')\n",
    "df.head()"
   ]
  },
  {
   "cell_type": "code",
   "execution_count": 34,
   "metadata": {},
   "outputs": [
    {
     "data": {
      "text/html": [
       "<div>\n",
       "<style scoped>\n",
       "    .dataframe tbody tr th:only-of-type {\n",
       "        vertical-align: middle;\n",
       "    }\n",
       "\n",
       "    .dataframe tbody tr th {\n",
       "        vertical-align: top;\n",
       "    }\n",
       "\n",
       "    .dataframe thead th {\n",
       "        text-align: right;\n",
       "    }\n",
       "</style>\n",
       "<table border=\"1\" class=\"dataframe\">\n",
       "  <thead>\n",
       "    <tr style=\"text-align: right;\">\n",
       "      <th></th>\n",
       "      <th>A</th>\n",
       "      <th>LK</th>\n",
       "    </tr>\n",
       "  </thead>\n",
       "  <tbody>\n",
       "    <tr>\n",
       "      <th>0</th>\n",
       "      <td>15.26</td>\n",
       "      <td>5.763</td>\n",
       "    </tr>\n",
       "    <tr>\n",
       "      <th>1</th>\n",
       "      <td>14.88</td>\n",
       "      <td>5.554</td>\n",
       "    </tr>\n",
       "    <tr>\n",
       "      <th>2</th>\n",
       "      <td>14.29</td>\n",
       "      <td>5.291</td>\n",
       "    </tr>\n",
       "    <tr>\n",
       "      <th>3</th>\n",
       "      <td>13.84</td>\n",
       "      <td>5.324</td>\n",
       "    </tr>\n",
       "    <tr>\n",
       "      <th>4</th>\n",
       "      <td>16.14</td>\n",
       "      <td>5.658</td>\n",
       "    </tr>\n",
       "  </tbody>\n",
       "</table>\n",
       "</div>"
      ],
      "text/plain": [
       "       A     LK\n",
       "0  15.26  5.763\n",
       "1  14.88  5.554\n",
       "2  14.29  5.291\n",
       "3  13.84  5.324\n",
       "4  16.14  5.658"
      ]
     },
     "execution_count": 34,
     "metadata": {},
     "output_type": "execute_result"
    }
   ],
   "source": [
    "df = df[['A', 'LK']]\n",
    "df.head()"
   ]
  },
  {
   "cell_type": "markdown",
   "metadata": {},
   "source": [
    "### PCA Basic"
   ]
  },
  {
   "cell_type": "code",
   "execution_count": 35,
   "metadata": {},
   "outputs": [
    {
     "data": {
      "text/plain": [
       "PCA()"
      ]
     },
     "execution_count": 35,
     "metadata": {},
     "output_type": "execute_result"
    }
   ],
   "source": [
    "model = PCA()\n",
    "model.fit(df.values)"
   ]
  },
  {
   "cell_type": "code",
   "execution_count": 36,
   "metadata": {},
   "outputs": [
    {
     "data": {
      "text/plain": [
       "array([0.99783531, 0.00216469])"
      ]
     },
     "execution_count": 36,
     "metadata": {},
     "output_type": "execute_result"
    }
   ],
   "source": [
    "model.explained_variance_ratio_"
   ]
  },
  {
   "cell_type": "code",
   "execution_count": 37,
   "metadata": {},
   "outputs": [
    {
     "data": {
      "text/plain": [
       "array([[ 0.98965371,  0.14347657],\n",
       "       [-0.14347657,  0.98965371]])"
      ]
     },
     "execution_count": 37,
     "metadata": {},
     "output_type": "execute_result"
    }
   ],
   "source": [
    "model.components_"
   ]
  },
  {
   "cell_type": "markdown",
   "metadata": {},
   "source": [
    "### PCA `n_components=1`\n",
    "> `n_compoemen` = eigenvectors/eigenvalues = 1\n"
   ]
  },
  {
   "cell_type": "code",
   "execution_count": 38,
   "metadata": {},
   "outputs": [],
   "source": [
    "model = PCA(n_components=1)"
   ]
  },
  {
   "cell_type": "code",
   "execution_count": 39,
   "metadata": {},
   "outputs": [
    {
     "data": {
      "text/plain": [
       "PCA(n_components=1)"
      ]
     },
     "execution_count": 39,
     "metadata": {},
     "output_type": "execute_result"
    }
   ],
   "source": [
    "model.fit(df.values)"
   ]
  },
  {
   "cell_type": "code",
   "execution_count": 40,
   "metadata": {},
   "outputs": [],
   "source": [
    "data_t = model.fit_transform(df.values)"
   ]
  },
  {
   "cell_type": "code",
   "execution_count": 41,
   "metadata": {},
   "outputs": [
    {
     "data": {
      "image/png": "[encoded data removed]",
      "text/plain": [
       "<Figure size 720x504 with 1 Axes>"
      ]
     },
     "metadata": {
      "needs_background": "light"
     },
     "output_type": "display_data"
    }
   ],
   "source": [
    "plt.figure(figsize=(10, 7))\n",
    "plt.plot(data_t)\n",
    "plt.xlabel('Sample')\n",
    "plt.ylabel('Transformed Data')\n",
    "plt.title('The dataset transformed by the principal component')\n",
    "plt.show()"
   ]
  },
  {
   "cell_type": "markdown",
   "metadata": {},
   "source": [
    "## Visualization of Manual PCA"
   ]
  },
  {
   "cell_type": "code",
   "execution_count": 42,
   "metadata": {},
   "outputs": [
    {
     "data": {
      "text/html": [
       "<div>\n",
       "<style scoped>\n",
       "    .dataframe tbody tr th:only-of-type {\n",
       "        vertical-align: middle;\n",
       "    }\n",
       "\n",
       "    .dataframe tbody tr th {\n",
       "        vertical-align: top;\n",
       "    }\n",
       "\n",
       "    .dataframe thead th {\n",
       "        text-align: right;\n",
       "    }\n",
       "</style>\n",
       "<table border=\"1\" class=\"dataframe\">\n",
       "  <thead>\n",
       "    <tr style=\"text-align: right;\">\n",
       "      <th></th>\n",
       "      <th>A</th>\n",
       "      <th>LK</th>\n",
       "    </tr>\n",
       "  </thead>\n",
       "  <tbody>\n",
       "    <tr>\n",
       "      <th>0</th>\n",
       "      <td>15.26</td>\n",
       "      <td>5.763</td>\n",
       "    </tr>\n",
       "    <tr>\n",
       "      <th>1</th>\n",
       "      <td>14.88</td>\n",
       "      <td>5.554</td>\n",
       "    </tr>\n",
       "    <tr>\n",
       "      <th>2</th>\n",
       "      <td>14.29</td>\n",
       "      <td>5.291</td>\n",
       "    </tr>\n",
       "    <tr>\n",
       "      <th>3</th>\n",
       "      <td>13.84</td>\n",
       "      <td>5.324</td>\n",
       "    </tr>\n",
       "    <tr>\n",
       "      <th>4</th>\n",
       "      <td>16.14</td>\n",
       "      <td>5.658</td>\n",
       "    </tr>\n",
       "  </tbody>\n",
       "</table>\n",
       "</div>"
      ],
      "text/plain": [
       "       A     LK\n",
       "0  15.26  5.763\n",
       "1  14.88  5.554\n",
       "2  14.29  5.291\n",
       "3  13.84  5.324\n",
       "4  16.14  5.658"
      ]
     },
     "execution_count": 42,
     "metadata": {},
     "output_type": "execute_result"
    }
   ],
   "source": [
    "df = pd.read_csv('data/Seed_Data.csv')[['A', 'LK']]\n",
    "df.head()"
   ]
  },
  {
   "cell_type": "code",
   "execution_count": 43,
   "metadata": {},
   "outputs": [
    {
     "data": {
      "text/plain": [
       "array([14.84752381,  5.62853333])"
      ]
     },
     "execution_count": 43,
     "metadata": {},
     "output_type": "execute_result"
    }
   ],
   "source": [
    "means = np.mean(df.values, axis=0)\n",
    "means"
   ]
  },
  {
   "cell_type": "code",
   "execution_count": 44,
   "metadata": {},
   "outputs": [
    {
     "data": {
      "text/plain": [
       "array([[ 4.12476190e-01,  1.34466667e-01],\n",
       "       [ 3.24761905e-02, -7.45333333e-02],\n",
       "       [-5.57523810e-01, -3.37533333e-01],\n",
       "       [-1.00752381e+00, -3.04533333e-01],\n",
       "       [ 1.29247619e+00,  2.94666667e-02],\n",
       "       [-4.67523810e-01, -2.42533333e-01],\n",
       "       [-1.57523810e-01, -6.55333333e-02],\n",
       "       [-7.37523810e-01, -2.08533333e-01],\n",
       "       [ 1.78247619e+00,  4.24466667e-01],\n",
       "       [ 1.59247619e+00,  2.55466667e-01],\n",
       "       [ 4.12476190e-01,  8.54666667e-02],\n",
       "       [-8.17523810e-01, -1.90533333e-01],\n",
       "       [-9.57523810e-01, -1.89533333e-01],\n",
       "       [-1.06752381e+00, -1.49533333e-01],\n",
       "       [-1.10752381e+00, -1.46533333e-01],\n",
       "       [-2.57523810e-01, -2.77533333e-01],\n",
       "       [-8.57523810e-01, -5.09533333e-01],\n",
       "       [ 8.42476190e-01, -1.01533333e-01],\n",
       "       [-1.47523810e-01, -4.23533333e-01],\n",
       "       [-2.12752381e+00, -4.02533333e-01],\n",
       "       [-6.87523810e-01,  2.94666667e-02],\n",
       "       [-7.37523810e-01, -1.08533333e-01],\n",
       "       [ 1.03247619e+00, -1.05333333e-02],\n",
       "       [-2.76752381e+00, -5.29533333e-01],\n",
       "       [ 1.62476190e-01,  1.60466667e-01],\n",
       "       [ 1.34247619e+00,  2.04466667e-01],\n",
       "       [-1.82752381e+00, -2.33533333e-01],\n",
       "       [-2.10752381e+00, -2.33533333e-01],\n",
       "       [-7.37523810e-01, -8.75333333e-02],\n",
       "       [-1.39752381e+00, -1.12533333e-01],\n",
       "       [-1.68752381e+00, -1.74533333e-01],\n",
       "       [ 6.42476190e-01,  1.28466667e-01],\n",
       "       [-7.57523810e-01,  8.84666667e-02],\n",
       "       [-9.07523810e-01, -4.35333333e-02],\n",
       "       [ 2.02476190e-01,  8.34666667e-02],\n",
       "       [ 1.27247619e+00,  8.04666667e-02],\n",
       "       [ 1.35247619e+00,  1.97466667e-01],\n",
       "       [ 2.23247619e+00,  2.03466667e-01],\n",
       "       [-4.75238095e-02,  2.74666667e-02],\n",
       "       [-5.67523810e-01, -2.31533333e-01],\n",
       "       [-1.30752381e+00, -2.80533333e-01],\n",
       "       [-1.34752381e+00, -2.77533333e-01],\n",
       "       [-1.68752381e+00, -4.90533333e-01],\n",
       "       [ 6.52476190e-01,  2.48466667e-01],\n",
       "       [ 2.62476190e-01, -4.95333333e-02],\n",
       "       [-1.04752381e+00, -2.52533333e-01],\n",
       "       [ 5.12476190e-01,  7.24666667e-02],\n",
       "       [ 1.42476190e-01, -5.85333333e-02],\n",
       "       [-5.75238095e-02, -8.35333333e-02],\n",
       "       [ 1.24761905e-02,  4.94666667e-02],\n",
       "       [-4.17523810e-01, -4.35333333e-02],\n",
       "       [ 9.32476190e-01,  4.54666667e-02],\n",
       "       [-3.57523810e-01,  8.64666667e-02],\n",
       "       [-5.17523810e-01, -1.24533333e-01],\n",
       "       [-3.27523810e-01,  1.12466667e-01],\n",
       "       [ 1.82476190e-01,  7.34666667e-02],\n",
       "       [-3.87523810e-01, -2.40533333e-01],\n",
       "       [ 7.24761905e-02, -2.44533333e-01],\n",
       "       [ 5.32476190e-01,  3.34666667e-02],\n",
       "       [-2.73752381e+00, -4.69533333e-01],\n",
       "       [-3.42752381e+00, -6.20533333e-01],\n",
       "       [-3.61752381e+00, -7.26533333e-01],\n",
       "       [-2.48752381e+00, -5.52533333e-01],\n",
       "       [-1.62752381e+00, -2.33533333e-01],\n",
       "       [-2.06752381e+00, -3.66533333e-01],\n",
       "       [-1.96752381e+00, -4.89533333e-01],\n",
       "       [-5.07523810e-01,  1.46666667e-03],\n",
       "       [-8.37523810e-01, -1.95333333e-02],\n",
       "       [-4.77523810e-01, -5.95333333e-02],\n",
       "       [-2.11752381e+00, -2.16533333e-01],\n",
       "       [ 2.78247619e+00,  5.62466667e-01],\n",
       "       [ 1.99247619e+00,  3.69466667e-01],\n",
       "       [ 2.41247619e+00,  3.49466667e-01],\n",
       "       [ 4.26247619e+00,  5.25466667e-01],\n",
       "       [ 1.97247619e+00,  3.88466667e-01],\n",
       "       [ 1.92247619e+00,  2.98466667e-01],\n",
       "       [ 2.47247619e+00,  4.35466667e-01],\n",
       "       [ 5.86247619e+00,  9.50466667e-01],\n",
       "       [ 4.09247619e+00,  8.16466667e-01],\n",
       "       [ 2.27247619e+00,  2.21466667e-01],\n",
       "       [ 1.68247619e+00,  2.46466667e-01],\n",
       "       [ 3.87247619e+00,  3.77466667e-01],\n",
       "       [ 5.35247619e+00,  6.56466667e-01],\n",
       "       [ 4.72247619e+00,  7.55466667e-01],\n",
       "       [ 4.66247619e+00,  7.37466667e-01],\n",
       "       [ 3.42247619e+00,  5.44466667e-01],\n",
       "       [ 4.03247619e+00,  4.55466667e-01],\n",
       "       [ 4.13247619e+00,  9.20466667e-01],\n",
       "       [ 6.33247619e+00,  9.44466667e-01],\n",
       "       [ 6.03247619e+00,  8.21466667e-01],\n",
       "       [ 5.25247619e+00,  9.52466667e-01],\n",
       "       [ 3.91247619e+00,  5.43466667e-01],\n",
       "       [ 3.96247619e+00,  6.43466667e-01],\n",
       "       [ 3.74247619e+00,  4.08466667e-01],\n",
       "       [ 3.51247619e+00,  1.03746667e+00],\n",
       "       [ 2.02247619e+00,  5.10466667e-01],\n",
       "       [ 4.46247619e+00,  7.12466667e-01],\n",
       "       [ 4.13247619e+00,  8.20466667e-01],\n",
       "       [ 3.32247619e+00,  6.42466667e-01],\n",
       "       [ 3.87247619e+00,  5.90466667e-01],\n",
       "       [ 1.56247619e+00,  8.94666667e-02],\n",
       "       [ 3.14247619e+00,  2.61466667e-01],\n",
       "       [ 4.61247619e+00,  4.84466667e-01],\n",
       "       [ 4.33247619e+00,  7.40466667e-01],\n",
       "       [ 4.10247619e+00,  6.19466667e-01],\n",
       "       [ 3.98247619e+00,  4.08466667e-01],\n",
       "       [ 4.00247619e+00,  5.23466667e-01],\n",
       "       [ 2.78247619e+00,  4.04466667e-01],\n",
       "       [ 5.09247619e+00,  1.04646667e+00],\n",
       "       [ 3.70247619e+00,  5.24466667e-01],\n",
       "       [ 3.60247619e+00,  4.78466667e-01],\n",
       "       [ 4.53247619e+00,  6.74466667e-01],\n",
       "       [ 4.28247619e+00,  5.54466667e-01],\n",
       "       [ 4.29247619e+00,  6.30466667e-01],\n",
       "       [ 6.12247619e+00,  9.34466667e-01],\n",
       "       [ 4.21247619e+00,  7.87466667e-01],\n",
       "       [ 4.11247619e+00,  4.22466667e-01],\n",
       "       [ 4.30247619e+00,  6.16466667e-01],\n",
       "       [ 4.04247619e+00,  5.98466667e-01],\n",
       "       [ 5.18247619e+00,  8.64466667e-01],\n",
       "       [ 5.39247619e+00,  6.86466667e-01],\n",
       "       [ 3.29247619e+00,  4.30466667e-01],\n",
       "       [ 1.32247619e+00,  1.33466667e-01],\n",
       "       [ 3.58247619e+00,  3.51466667e-01],\n",
       "       [ 1.14247619e+00, -2.65533333e-01],\n",
       "       [ 3.90247619e+00,  4.82466667e-01],\n",
       "       [ 3.80247619e+00,  6.56466667e-01],\n",
       "       [ 3.13247619e+00,  3.50466667e-01],\n",
       "       [ 5.31247619e+00,  8.84466667e-01],\n",
       "       [ 2.70247619e+00,  1.62466667e-01],\n",
       "       [ 3.45247619e+00,  3.50466667e-01],\n",
       "       [ 4.09247619e+00,  5.15466667e-01],\n",
       "       [ 5.32476190e-01,  2.55466667e-01],\n",
       "       [ 1.31247619e+00,  2.16466667e-01],\n",
       "       [ 7.12476190e-01,  1.47466667e-01],\n",
       "       [ 5.32476190e-01, -1.51533333e-01],\n",
       "       [ 2.51247619e+00,  5.16466667e-01],\n",
       "       [ 7.22476190e-01,  2.91466667e-01],\n",
       "       [ 7.52476190e-01,  2.03466667e-01],\n",
       "       [ 1.38247619e+00,  2.43466667e-01],\n",
       "       [-1.77752381e+00, -1.56533333e-01],\n",
       "       [-1.52752381e+00, -8.75333333e-02],\n",
       "       [-1.50752381e+00, -2.39533333e-01],\n",
       "       [-2.62752381e+00, -4.04533333e-01],\n",
       "       [-3.02752381e+00, -3.14533333e-01],\n",
       "       [-3.63752381e+00, -3.49533333e-01],\n",
       "       [-3.41752381e+00, -4.52533333e-01],\n",
       "       [-2.35752381e+00, -3.61533333e-01],\n",
       "       [-2.14752381e+00, -2.42533333e-01],\n",
       "       [-4.05752381e+00, -3.11533333e-01],\n",
       "       [-3.01752381e+00, -3.65533333e-01],\n",
       "       [-2.83752381e+00, -2.23533333e-01],\n",
       "       [-2.58752381e+00, -2.20533333e-01],\n",
       "       [-3.66752381e+00, -4.08533333e-01],\n",
       "       [-3.48752381e+00, -4.53533333e-01],\n",
       "       [-3.65752381e+00, -3.78533333e-01],\n",
       "       [-3.50752381e+00, -5.75533333e-01],\n",
       "       [-2.71752381e+00, -2.34533333e-01],\n",
       "       [-3.09752381e+00, -1.84533333e-01],\n",
       "       [-3.35752381e+00, -3.24533333e-01],\n",
       "       [-2.30752381e+00, -1.77533333e-01],\n",
       "       [-2.82752381e+00, -2.78533333e-01],\n",
       "       [-2.79752381e+00, -3.61533333e-01],\n",
       "       [-2.29752381e+00, -2.95533333e-01],\n",
       "       [-3.70752381e+00, -6.17533333e-01],\n",
       "       [-2.74752381e+00, -5.23533333e-01],\n",
       "       [-2.40752381e+00, -3.09533333e-01],\n",
       "       [-2.69752381e+00, -2.11533333e-01],\n",
       "       [-3.49752381e+00, -4.52533333e-01],\n",
       "       [-3.60752381e+00, -5.38533333e-01],\n",
       "       [-3.82752381e+00, -3.03533333e-01],\n",
       "       [-3.29752381e+00, -4.61533333e-01],\n",
       "       [-3.57752381e+00, -5.40533333e-01],\n",
       "       [-3.44752381e+00, -4.92533333e-01],\n",
       "       [-4.01752381e+00, -3.50533333e-01],\n",
       "       [-4.04752381e+00, -6.47533333e-01],\n",
       "       [-3.58752381e+00, -4.42533333e-01],\n",
       "       [-4.10752381e+00, -4.83533333e-01],\n",
       "       [-3.36752381e+00, -4.48533333e-01],\n",
       "       [-2.63752381e+00, -2.71533333e-01],\n",
       "       [-3.43752381e+00, -5.38533333e-01],\n",
       "       [-2.38752381e+00, -3.92533333e-01],\n",
       "       [-2.65752381e+00, -3.88533333e-01],\n",
       "       [-3.19752381e+00, -5.20533333e-01],\n",
       "       [-1.95752381e+00, -1.33533333e-01],\n",
       "       [-3.28752381e+00, -2.65533333e-01],\n",
       "       [-3.03752381e+00, -2.15533333e-01],\n",
       "       [-3.93752381e+00, -5.40533333e-01],\n",
       "       [-3.61752381e+00, -5.39533333e-01],\n",
       "       [-4.25752381e+00, -7.29533333e-01],\n",
       "       [-3.91752381e+00, -5.82533333e-01],\n",
       "       [-3.57752381e+00, -5.37533333e-01],\n",
       "       [-2.97752381e+00, -4.96533333e-01],\n",
       "       [-4.02752381e+00, -4.48533333e-01],\n",
       "       [-2.73752381e+00, -3.92533333e-01],\n",
       "       [-2.04752381e+00, -4.68533333e-01],\n",
       "       [-2.05752381e+00, -4.04533333e-01],\n",
       "       [-1.47752381e+00, -3.08533333e-01],\n",
       "       [-2.22752381e+00, -2.18533333e-01],\n",
       "       [-2.08752381e+00, -5.55533333e-01],\n",
       "       [-2.46752381e+00, -4.09533333e-01],\n",
       "       [-2.17752381e+00, -6.44533333e-01],\n",
       "       [-3.66752381e+00, -6.19533333e-01],\n",
       "       [-2.14752381e+00, -4.45533333e-01],\n",
       "       [-2.47752381e+00, -4.24533333e-01],\n",
       "       [-2.65752381e+00, -4.91533333e-01],\n",
       "       [-3.61752381e+00, -4.88533333e-01],\n",
       "       [-1.64752381e+00, -3.92533333e-01],\n",
       "       [-3.00752381e+00, -4.53533333e-01],\n",
       "       [-2.54752381e+00, -3.85533333e-01]])"
      ]
     },
     "execution_count": 44,
     "metadata": {},
     "output_type": "execute_result"
    }
   ],
   "source": [
    "data = df.values - means\n",
    "data"
   ]
  },
  {
   "cell_type": "code",
   "execution_count": 45,
   "metadata": {},
   "outputs": [
    {
     "data": {
      "text/plain": [
       "array([-0.98965371, -0.14347657])"
      ]
     },
     "execution_count": 45,
     "metadata": {},
     "output_type": "execute_result"
    }
   ],
   "source": [
    "eigenvectors, eigenvalues, _ = np.linalg.svd(np.cov(data.T), full_matrices=False)\n",
    "P = eigenvectors[0]\n",
    "P"
   ]
  },
  {
   "cell_type": "code",
   "execution_count": 46,
   "metadata": {},
   "outputs": [],
   "source": [
    "data_transformed = P.dot(data.T)"
   ]
  },
  {
   "cell_type": "code",
   "execution_count": 47,
   "metadata": {},
   "outputs": [],
   "source": [
    "P = P.reshape((-1, 1))"
   ]
  },
  {
   "cell_type": "code",
   "execution_count": 48,
   "metadata": {},
   "outputs": [
    {
     "data": {
      "text/plain": [
       "array([[-0.98965371, -0.14347657]])"
      ]
     },
     "execution_count": 48,
     "metadata": {},
     "output_type": "execute_result"
    }
   ],
   "source": [
    "# Inverted matrix\n",
    "P_transformed = np.linalg.pinv(P)\n",
    "P_transformed"
   ]
  },
  {
   "cell_type": "code",
   "execution_count": 49,
   "metadata": {},
   "outputs": [],
   "source": [
    "data_transformed = data_transformed.reshape((-1, 1))"
   ]
  },
  {
   "cell_type": "code",
   "execution_count": 50,
   "metadata": {},
   "outputs": [
    {
     "data": {
      "text/plain": [
       "array([[ 4.23078358e-01,  6.13364376e-02],\n",
       "       [ 2.12245047e-02,  3.07705530e-03],\n",
       "       [-5.93973963e-01, -8.61122915e-02],\n",
       "       [-1.03002474e+00, -1.49329425e-01],\n",
       "       [ 1.27005392e+00,  1.84128026e-01],\n",
       "       [-4.92337409e-01, -7.13773752e-02],\n",
       "       [-1.63586316e-01, -2.37161785e-02],\n",
       "       [-7.51951584e-01, -1.09015341e-01],\n",
       "       [ 1.80605390e+00,  2.61835450e-01],\n",
       "       [ 1.59596848e+00,  2.31377993e-01],\n",
       "       [ 4.16120744e-01,  6.03277467e-02],\n",
       "       [-8.27748884e-01, -1.20004171e-01],\n",
       "       [-9.64724918e-01, -1.39862483e-01],\n",
       "       [-1.06678082e+00, -1.54658196e-01],\n",
       "       [-1.10553143e+00, -1.60276124e-01],\n",
       "       [-2.91630094e-01, -4.22795227e-02],\n",
       "       [-9.12220950e-01, -1.32250639e-01],\n",
       "       [ 8.10716440e-01,  1.17534866e-01],\n",
       "       [-2.04625352e-01, -2.96658760e-02],\n",
       "       [-2.14088417e+00, -3.10377985e-01],\n",
       "       [-6.69186735e-01, -9.70163791e-02],\n",
       "       [-7.37752372e-01, -1.06956788e-01],\n",
       "       [ 1.00972647e+00,  1.46386653e-01],\n",
       "       [-2.78574244e+00, -4.03867307e-01],\n",
       "       [ 1.81916535e-01,  2.63736303e-02],\n",
       "       [ 1.34387327e+00,  1.94830100e-01],\n",
       "       [-1.82306316e+00, -2.64301394e-01],\n",
       "       [-2.09729921e+00, -3.04059189e-01],\n",
       "       [-7.34770537e-01, -1.06524492e-01],\n",
       "       [-1.38473389e+00, -2.00753932e-01],\n",
       "       [-1.67756760e+00, -2.43207951e-01],\n",
       "       [ 6.47491734e-01,  9.38711129e-02],\n",
       "       [-7.29368213e-01, -1.05741282e-01],\n",
       "       [-8.95023344e-01, -1.29757390e-01],\n",
       "       [ 2.10159721e-01,  3.04682297e-02],\n",
       "       [ 1.25770723e+00,  1.82338046e-01],\n",
       "       [ 1.35267347e+00,  1.96105922e-01],\n",
       "       [ 2.21541016e+00,  3.21182504e-01],\n",
       "       [-4.26454565e-02, -6.18259084e-03],\n",
       "       [-5.88716942e-01, -8.53501468e-02],\n",
       "       [-1.32044127e+00, -1.91433009e-01],\n",
       "       [-1.35919187e+00, -1.97050938e-01],\n",
       "       [-1.72243711e+00, -2.49712977e-01],\n",
       "       [ 6.74324934e-01,  9.77612974e-02],\n",
       "       [ 2.50039637e-01,  3.62498820e-02],\n",
       "       [-1.06181772e+00, -1.53938662e-01],\n",
       "       [ 5.12216294e-01,  7.42593473e-02],\n",
       "       [ 1.31231971e-01,  1.90255574e-02],\n",
       "       [-6.82007270e-02, -9.88750559e-03],\n",
       "       [ 1.92432386e-02,  2.78981820e-03],\n",
       "       [-4.15110252e-01, -6.01812491e-02],\n",
       "       [ 9.19736585e-01,  1.33340230e-01],\n",
       "       [-3.37886408e-01, -4.89856032e-02],\n",
       "       [-5.24553062e-01, -7.60478892e-02],\n",
       "       [-3.04812178e-01, -4.41906157e-02],\n",
       "       [ 1.89151510e-01,  2.74225319e-02],\n",
       "       [-4.13700266e-01, -5.99768343e-02],\n",
       "       [ 3.62624225e-02,  5.25720064e-03],\n",
       "       [ 5.26266890e-01,  7.62963542e-02],\n",
       "       [-2.74784047e+00, -3.98372411e-01],\n",
       "       [-3.44507727e+00, -4.99455391e-01],\n",
       "       [-3.64621719e+00, -5.28615961e-01],\n",
       "       [-2.51477220e+00, -3.64582979e-01],\n",
       "       [-1.62718027e+00, -2.35902969e-01],\n",
       "       [-2.07700759e+00, -3.01117379e-01],\n",
       "       [-1.99653117e+00, -2.89450186e-01],\n",
       "       [-4.96867909e-01, -7.20341916e-02],\n",
       "       [-8.23056520e-01, -1.19323889e-01],\n",
       "       [-4.76146995e-01, -6.90301450e-02],\n",
       "       [-2.10467949e+00, -3.05129156e-01],\n",
       "       [ 2.80506329e+00,  4.06668377e-01],\n",
       "       [ 2.00392137e+00,  2.90521592e-01],\n",
       "       [ 2.41243561e+00,  3.49746574e-01],\n",
       "       [ 4.24934300e+00,  6.16055056e-01],\n",
       "       [ 1.98703094e+00,  2.88072875e-01],\n",
       "       [ 1.92528092e+00,  2.79120571e-01],\n",
       "       [ 2.48341180e+00,  3.60036457e-01],\n",
       "       [ 5.87675281e+00,  8.51991303e-01],\n",
       "       [ 4.12416225e+00,  5.97906783e-01],\n",
       "       [ 2.25714259e+00,  3.27232729e-01],\n",
       "       [ 1.68283786e+00,  2.43972014e-01],\n",
       "       [ 3.84635652e+00,  5.57631469e-01],\n",
       "       [ 5.33550574e+00,  7.73523175e-01],\n",
       "       [ 4.73253185e+00,  6.86106104e-01],\n",
       "       [ 4.67121112e+00,  6.77216037e-01],\n",
       "       [ 3.42933269e+00,  4.97172797e-01],\n",
       "       [ 4.01413822e+00,  5.81955880e-01],\n",
       "       [ 4.17810601e+00,  6.05727363e-01],\n",
       "       [ 6.33622566e+00,  9.18604088e-01],\n",
       "       [ 6.02493628e+00,  8.73474431e-01],\n",
       "       [ 5.27959396e+00,  7.65417279e-01],\n",
       "       [ 3.90910379e+00,  5.66728352e-01],\n",
       "       [ 3.97227373e+00,  5.75886511e-01],\n",
       "       [ 3.72343439e+00,  5.39810645e-01],\n",
       "       [ 3.58748211e+00,  5.20100753e-01],\n",
       "       [ 2.05332470e+00,  2.97683915e-01],\n",
       "       [ 4.47177842e+00,  6.48302974e-01],\n",
       "       [ 4.16390679e+00,  6.03668810e-01],\n",
       "       [ 3.34530647e+00,  4.84990966e-01],\n",
       "       [ 3.87660084e+00,  5.62016187e-01],\n",
       "       [ 1.54301536e+00,  2.23701031e-01],\n",
       "       [ 3.11491287e+00,  4.51589298e-01],\n",
       "       [ 4.58631639e+00,  6.64908293e-01],\n",
       "       [ 4.34843032e+00,  6.30420393e-01],\n",
       "       [ 4.10598394e+00,  5.95271356e-01],\n",
       "       [ 3.95849387e+00,  5.73888754e-01],\n",
       "       [ 3.99441125e+00,  5.79095933e-01],\n",
       "       [ 2.78262853e+00,  4.03415864e-01],\n",
       "       [ 5.13623491e+00,  7.44633578e-01],\n",
       "       [ 3.70072890e+00,  5.36518881e-01],\n",
       "       [ 3.59625582e+00,  5.21372734e-01],\n",
       "       [ 4.53494173e+00,  6.57460173e-01],\n",
       "       [ 4.27304906e+00,  6.19491879e-01],\n",
       "       [ 4.29363461e+00,  6.22476300e-01],\n",
       "       [ 6.12912870e+00,  8.88579887e-01],\n",
       "       [ 4.23757421e+00,  6.14348858e-01],\n",
       "       [ 4.08780564e+00,  5.92635928e-01],\n",
       "       [ 4.30144086e+00,  6.23608024e-01],\n",
       "       [ 4.04423724e+00,  5.86319532e-01],\n",
       "       [ 5.19853964e+00,  7.53666304e-01],\n",
       "       [ 5.37894209e+00,  7.79820426e-01],\n",
       "       [ 3.28582171e+00,  4.76367071e-01],\n",
       "       [ 1.31420354e+00,  1.90528685e-01],\n",
       "       [ 3.55863453e+00,  5.15918530e-01],\n",
       "       [ 1.08125407e+00,  1.56756477e-01],\n",
       "       [ 3.89064813e+00,  5.64052714e-01],\n",
       "       [ 3.81741331e+00,  5.53435383e-01],\n",
       "       [ 3.11775602e+00,  4.52001489e-01],\n",
       "       [ 5.32870337e+00,  7.72536990e-01],\n",
       "       [ 2.66991328e+00,  3.87074796e-01],\n",
       "       [ 3.43116865e+00,  4.97438968e-01],\n",
       "       [ 4.08142262e+00,  5.91710539e-01],\n",
       "       [ 5.57789142e-01,  8.08663412e-02],\n",
       "       [ 1.31619474e+00,  1.90817362e-01],\n",
       "       [ 7.18748598e-01,  1.04201687e-01],\n",
       "       [ 4.99998348e-01,  7.24880317e-02],\n",
       "       [ 2.53408974e+00,  3.67383569e-01],\n",
       "       [ 7.48989608e-01,  1.08585924e-01],\n",
       "       [ 7.65876736e-01,  1.11034161e-01],\n",
       "       [ 1.38858754e+00,  2.01312620e-01],\n",
       "       [-1.76315905e+00, -2.55616702e-01],\n",
       "       [-1.50850797e+00, -2.18698270e-01],\n",
       "       [-1.51050248e+00, -2.18987428e-01],\n",
       "       [-2.63087539e+00, -3.81415218e-01],\n",
       "       [-3.00986189e+00, -4.36359370e-01],\n",
       "       [-3.61227444e+00, -5.23695059e-01],\n",
       "       [-3.41142845e+00, -4.94577102e-01],\n",
       "       [-2.36032782e+00, -3.42192167e-01],\n",
       "       [-2.13775372e+00, -3.09924143e-01],\n",
       "       [-4.01823282e+00, -5.82549501e-01],\n",
       "       [-3.00730935e+00, -4.35989311e-01],\n",
       "       [-2.81085186e+00, -4.07507584e-01],\n",
       "       [-2.56557226e+00, -3.71947796e-01],\n",
       "       [-3.65003441e+00, -5.29169369e-01],\n",
       "       [-3.48012945e+00, -5.04537136e-01],\n",
       "       [-3.63598051e+00, -5.27131882e-01],\n",
       "       [-3.51704078e+00, -5.09888413e-01],\n",
       "       [-2.69488404e+00, -3.90694970e-01],\n",
       "       [-3.05996193e+00, -4.43622701e-01],\n",
       "       [-3.33448859e+00, -4.83422627e-01],\n",
       "       [-2.28523055e+00, -3.31304824e-01],\n",
       "       [-2.80886728e+00, -4.07219867e-01],\n",
       "       [-2.79127019e+00, -4.04668702e-01],\n",
       "       [-2.29219148e+00, -3.32313995e-01],\n",
       "       [-3.71888735e+00, -5.39151429e-01],\n",
       "       [-2.76530219e+00, -4.00903951e-01],\n",
       "       [-2.40191496e+00, -3.48221326e-01],\n",
       "       [-2.67202993e+00, -3.87381660e-01],\n",
       "       [-3.48978161e+00, -5.05936471e-01],\n",
       "       [-3.60972852e+00, -5.23325960e-01],\n",
       "       [-3.79183156e+00, -5.49726629e-01],\n",
       "       [-3.29517664e+00, -4.77723316e-01],\n",
       "       [-3.58063007e+00, -5.19107368e-01],\n",
       "       [-3.44649057e+00, -4.99660286e-01],\n",
       "       [-3.98459394e+00, -5.77672652e-01],\n",
       "       [-4.05614803e+00, -5.88046317e-01],\n",
       "       [-3.57650899e+00, -5.18509907e-01],\n",
       "       [-4.09162619e+00, -5.93189818e-01],\n",
       "       [-3.36188976e+00, -4.87395153e-01],\n",
       "       [-2.62178459e+00, -3.80097264e-01],\n",
       "       [-3.44322806e+00, -4.99187299e-01],\n",
       "       [-2.39411201e+00, -3.47090082e-01],\n",
       "       [-2.65798595e+00, -3.85345614e-01],\n",
       "       [-3.20561273e+00, -4.64738650e-01],\n",
       "       [-1.93618783e+00, -2.80701817e-01],\n",
       "       [-3.25755204e+00, -4.72268632e-01],\n",
       "       [-3.00559882e+00, -4.35741324e-01],\n",
       "       [-3.93321928e+00, -5.70224532e-01],\n",
       "       [-3.61966466e+00, -5.24766467e-01],\n",
       "       [-4.27346842e+00, -6.19552677e-01],\n",
       "       [-3.91959466e+00, -5.68249282e-01],\n",
       "       [-3.58020410e+00, -5.19045611e-01],\n",
       "       [-2.98673373e+00, -4.33006330e-01],\n",
       "       [-4.00830331e+00, -5.81109955e-01],\n",
       "       [-2.73690708e+00, -3.96787326e-01],\n",
       "       [-2.07190250e+00, -3.00377260e-01],\n",
       "       [-2.07260914e+00, -3.00479708e-01],\n",
       "       [-1.49091751e+00, -2.16148065e-01],\n",
       "       [-2.21269907e+00, -3.20789461e-01],\n",
       "       [-2.12343239e+00, -3.07847886e-01],\n",
       "       [-2.47487904e+00, -3.58799406e-01],\n",
       "       [-2.22421699e+00, -3.22459289e-01],\n",
       "       [-3.67999475e+00, -5.33512916e-01],\n",
       "       [-2.16657812e+00, -3.14103005e-01],\n",
       "       [-2.48680307e+00, -3.60528110e-01],\n",
       "       [-2.67261114e+00, -3.87465923e-01],\n",
       "       [-3.61242306e+00, -5.23716605e-01],\n",
       "       [-1.66934531e+00, -2.42015911e-01],\n",
       "       [-3.01001051e+00, -4.36380916e-01],\n",
       "       [-2.54982439e+00, -3.69664723e-01]])"
      ]
     },
     "execution_count": 50,
     "metadata": {},
     "output_type": "execute_result"
    }
   ],
   "source": [
    "data_restored = data_transformed.dot(P_transformed)\n",
    "data_restored"
   ]
  },
  {
   "cell_type": "code",
   "execution_count": 51,
   "metadata": {},
   "outputs": [],
   "source": [
    "data_restored += means"
   ]
  },
  {
   "cell_type": "markdown",
   "metadata": {},
   "source": [
    "## Visualization transformed datasets"
   ]
  },
  {
   "cell_type": "code",
   "execution_count": 52,
   "metadata": {},
   "outputs": [
    {
     "data": {
      "image/png": "[encoded data removed]",
      "text/plain": [
       "<Figure size 720x504 with 1 Axes>"
      ]
     },
     "metadata": {
      "needs_background": "light"
     },
     "output_type": "display_data"
    }
   ],
   "source": [
    "plt.figure(figsize=(10, 7))\n",
    "plt.plot(data_restored[:,0], data_restored[:,1], linestyle=':', label='PCA restoration')\n",
    "plt.scatter(df['A'], df['LK'], marker='*', label='Original')\n",
    "plt.legend()\n",
    "plt.xlabel('Area of Kernel')\n",
    "plt.ylabel('Length of Kernel')\n",
    "plt.title('Inverse transform after removing variance')\n",
    "plt.show()"
   ]
  },
  {
   "cell_type": "code",
   "execution_count": 53,
   "metadata": {},
   "outputs": [],
   "source": [
    "P = eigenvectors\n",
    "data_transformed = P.dot(data.T)"
   ]
  },
  {
   "cell_type": "code",
   "execution_count": 54,
   "metadata": {},
   "outputs": [],
   "source": [
    "data_transformed = data_transformed.T"
   ]
  },
  {
   "cell_type": "code",
   "execution_count": 55,
   "metadata": {},
   "outputs": [
    {
     "data": {
      "text/plain": [
       "array([[ 4.12476190e-01,  1.34466667e-01],\n",
       "       [ 3.24761905e-02, -7.45333333e-02],\n",
       "       [-5.57523810e-01, -3.37533333e-01],\n",
       "       [-1.00752381e+00, -3.04533333e-01],\n",
       "       [ 1.29247619e+00,  2.94666667e-02],\n",
       "       [-4.67523810e-01, -2.42533333e-01],\n",
       "       [-1.57523810e-01, -6.55333333e-02],\n",
       "       [-7.37523810e-01, -2.08533333e-01],\n",
       "       [ 1.78247619e+00,  4.24466667e-01],\n",
       "       [ 1.59247619e+00,  2.55466667e-01],\n",
       "       [ 4.12476190e-01,  8.54666667e-02],\n",
       "       [-8.17523810e-01, -1.90533333e-01],\n",
       "       [-9.57523810e-01, -1.89533333e-01],\n",
       "       [-1.06752381e+00, -1.49533333e-01],\n",
       "       [-1.10752381e+00, -1.46533333e-01],\n",
       "       [-2.57523810e-01, -2.77533333e-01],\n",
       "       [-8.57523810e-01, -5.09533333e-01],\n",
       "       [ 8.42476190e-01, -1.01533333e-01],\n",
       "       [-1.47523810e-01, -4.23533333e-01],\n",
       "       [-2.12752381e+00, -4.02533333e-01],\n",
       "       [-6.87523810e-01,  2.94666667e-02],\n",
       "       [-7.37523810e-01, -1.08533333e-01],\n",
       "       [ 1.03247619e+00, -1.05333333e-02],\n",
       "       [-2.76752381e+00, -5.29533333e-01],\n",
       "       [ 1.62476190e-01,  1.60466667e-01],\n",
       "       [ 1.34247619e+00,  2.04466667e-01],\n",
       "       [-1.82752381e+00, -2.33533333e-01],\n",
       "       [-2.10752381e+00, -2.33533333e-01],\n",
       "       [-7.37523810e-01, -8.75333333e-02],\n",
       "       [-1.39752381e+00, -1.12533333e-01],\n",
       "       [-1.68752381e+00, -1.74533333e-01],\n",
       "       [ 6.42476190e-01,  1.28466667e-01],\n",
       "       [-7.57523810e-01,  8.84666667e-02],\n",
       "       [-9.07523810e-01, -4.35333333e-02],\n",
       "       [ 2.02476190e-01,  8.34666667e-02],\n",
       "       [ 1.27247619e+00,  8.04666667e-02],\n",
       "       [ 1.35247619e+00,  1.97466667e-01],\n",
       "       [ 2.23247619e+00,  2.03466667e-01],\n",
       "       [-4.75238095e-02,  2.74666667e-02],\n",
       "       [-5.67523810e-01, -2.31533333e-01],\n",
       "       [-1.30752381e+00, -2.80533333e-01],\n",
       "       [-1.34752381e+00, -2.77533333e-01],\n",
       "       [-1.68752381e+00, -4.90533333e-01],\n",
       "       [ 6.52476190e-01,  2.48466667e-01],\n",
       "       [ 2.62476190e-01, -4.95333333e-02],\n",
       "       [-1.04752381e+00, -2.52533333e-01],\n",
       "       [ 5.12476190e-01,  7.24666667e-02],\n",
       "       [ 1.42476190e-01, -5.85333333e-02],\n",
       "       [-5.75238095e-02, -8.35333333e-02],\n",
       "       [ 1.24761905e-02,  4.94666667e-02],\n",
       "       [-4.17523810e-01, -4.35333333e-02],\n",
       "       [ 9.32476190e-01,  4.54666667e-02],\n",
       "       [-3.57523810e-01,  8.64666667e-02],\n",
       "       [-5.17523810e-01, -1.24533333e-01],\n",
       "       [-3.27523810e-01,  1.12466667e-01],\n",
       "       [ 1.82476190e-01,  7.34666667e-02],\n",
       "       [-3.87523810e-01, -2.40533333e-01],\n",
       "       [ 7.24761905e-02, -2.44533333e-01],\n",
       "       [ 5.32476190e-01,  3.34666667e-02],\n",
       "       [-2.73752381e+00, -4.69533333e-01],\n",
       "       [-3.42752381e+00, -6.20533333e-01],\n",
       "       [-3.61752381e+00, -7.26533333e-01],\n",
       "       [-2.48752381e+00, -5.52533333e-01],\n",
       "       [-1.62752381e+00, -2.33533333e-01],\n",
       "       [-2.06752381e+00, -3.66533333e-01],\n",
       "       [-1.96752381e+00, -4.89533333e-01],\n",
       "       [-5.07523810e-01,  1.46666667e-03],\n",
       "       [-8.37523810e-01, -1.95333333e-02],\n",
       "       [-4.77523810e-01, -5.95333333e-02],\n",
       "       [-2.11752381e+00, -2.16533333e-01],\n",
       "       [ 2.78247619e+00,  5.62466667e-01],\n",
       "       [ 1.99247619e+00,  3.69466667e-01],\n",
       "       [ 2.41247619e+00,  3.49466667e-01],\n",
       "       [ 4.26247619e+00,  5.25466667e-01],\n",
       "       [ 1.97247619e+00,  3.88466667e-01],\n",
       "       [ 1.92247619e+00,  2.98466667e-01],\n",
       "       [ 2.47247619e+00,  4.35466667e-01],\n",
       "       [ 5.86247619e+00,  9.50466667e-01],\n",
       "       [ 4.09247619e+00,  8.16466667e-01],\n",
       "       [ 2.27247619e+00,  2.21466667e-01],\n",
       "       [ 1.68247619e+00,  2.46466667e-01],\n",
       "       [ 3.87247619e+00,  3.77466667e-01],\n",
       "       [ 5.35247619e+00,  6.56466667e-01],\n",
       "       [ 4.72247619e+00,  7.55466667e-01],\n",
       "       [ 4.66247619e+00,  7.37466667e-01],\n",
       "       [ 3.42247619e+00,  5.44466667e-01],\n",
       "       [ 4.03247619e+00,  4.55466667e-01],\n",
       "       [ 4.13247619e+00,  9.20466667e-01],\n",
       "       [ 6.33247619e+00,  9.44466667e-01],\n",
       "       [ 6.03247619e+00,  8.21466667e-01],\n",
       "       [ 5.25247619e+00,  9.52466667e-01],\n",
       "       [ 3.91247619e+00,  5.43466667e-01],\n",
       "       [ 3.96247619e+00,  6.43466667e-01],\n",
       "       [ 3.74247619e+00,  4.08466667e-01],\n",
       "       [ 3.51247619e+00,  1.03746667e+00],\n",
       "       [ 2.02247619e+00,  5.10466667e-01],\n",
       "       [ 4.46247619e+00,  7.12466667e-01],\n",
       "       [ 4.13247619e+00,  8.20466667e-01],\n",
       "       [ 3.32247619e+00,  6.42466667e-01],\n",
       "       [ 3.87247619e+00,  5.90466667e-01],\n",
       "       [ 1.56247619e+00,  8.94666667e-02],\n",
       "       [ 3.14247619e+00,  2.61466667e-01],\n",
       "       [ 4.61247619e+00,  4.84466667e-01],\n",
       "       [ 4.33247619e+00,  7.40466667e-01],\n",
       "       [ 4.10247619e+00,  6.19466667e-01],\n",
       "       [ 3.98247619e+00,  4.08466667e-01],\n",
       "       [ 4.00247619e+00,  5.23466667e-01],\n",
       "       [ 2.78247619e+00,  4.04466667e-01],\n",
       "       [ 5.09247619e+00,  1.04646667e+00],\n",
       "       [ 3.70247619e+00,  5.24466667e-01],\n",
       "       [ 3.60247619e+00,  4.78466667e-01],\n",
       "       [ 4.53247619e+00,  6.74466667e-01],\n",
       "       [ 4.28247619e+00,  5.54466667e-01],\n",
       "       [ 4.29247619e+00,  6.30466667e-01],\n",
       "       [ 6.12247619e+00,  9.34466667e-01],\n",
       "       [ 4.21247619e+00,  7.87466667e-01],\n",
       "       [ 4.11247619e+00,  4.22466667e-01],\n",
       "       [ 4.30247619e+00,  6.16466667e-01],\n",
       "       [ 4.04247619e+00,  5.98466667e-01],\n",
       "       [ 5.18247619e+00,  8.64466667e-01],\n",
       "       [ 5.39247619e+00,  6.86466667e-01],\n",
       "       [ 3.29247619e+00,  4.30466667e-01],\n",
       "       [ 1.32247619e+00,  1.33466667e-01],\n",
       "       [ 3.58247619e+00,  3.51466667e-01],\n",
       "       [ 1.14247619e+00, -2.65533333e-01],\n",
       "       [ 3.90247619e+00,  4.82466667e-01],\n",
       "       [ 3.80247619e+00,  6.56466667e-01],\n",
       "       [ 3.13247619e+00,  3.50466667e-01],\n",
       "       [ 5.31247619e+00,  8.84466667e-01],\n",
       "       [ 2.70247619e+00,  1.62466667e-01],\n",
       "       [ 3.45247619e+00,  3.50466667e-01],\n",
       "       [ 4.09247619e+00,  5.15466667e-01],\n",
       "       [ 5.32476190e-01,  2.55466667e-01],\n",
       "       [ 1.31247619e+00,  2.16466667e-01],\n",
       "       [ 7.12476190e-01,  1.47466667e-01],\n",
       "       [ 5.32476190e-01, -1.51533333e-01],\n",
       "       [ 2.51247619e+00,  5.16466667e-01],\n",
       "       [ 7.22476190e-01,  2.91466667e-01],\n",
       "       [ 7.52476190e-01,  2.03466667e-01],\n",
       "       [ 1.38247619e+00,  2.43466667e-01],\n",
       "       [-1.77752381e+00, -1.56533333e-01],\n",
       "       [-1.52752381e+00, -8.75333333e-02],\n",
       "       [-1.50752381e+00, -2.39533333e-01],\n",
       "       [-2.62752381e+00, -4.04533333e-01],\n",
       "       [-3.02752381e+00, -3.14533333e-01],\n",
       "       [-3.63752381e+00, -3.49533333e-01],\n",
       "       [-3.41752381e+00, -4.52533333e-01],\n",
       "       [-2.35752381e+00, -3.61533333e-01],\n",
       "       [-2.14752381e+00, -2.42533333e-01],\n",
       "       [-4.05752381e+00, -3.11533333e-01],\n",
       "       [-3.01752381e+00, -3.65533333e-01],\n",
       "       [-2.83752381e+00, -2.23533333e-01],\n",
       "       [-2.58752381e+00, -2.20533333e-01],\n",
       "       [-3.66752381e+00, -4.08533333e-01],\n",
       "       [-3.48752381e+00, -4.53533333e-01],\n",
       "       [-3.65752381e+00, -3.78533333e-01],\n",
       "       [-3.50752381e+00, -5.75533333e-01],\n",
       "       [-2.71752381e+00, -2.34533333e-01],\n",
       "       [-3.09752381e+00, -1.84533333e-01],\n",
       "       [-3.35752381e+00, -3.24533333e-01],\n",
       "       [-2.30752381e+00, -1.77533333e-01],\n",
       "       [-2.82752381e+00, -2.78533333e-01],\n",
       "       [-2.79752381e+00, -3.61533333e-01],\n",
       "       [-2.29752381e+00, -2.95533333e-01],\n",
       "       [-3.70752381e+00, -6.17533333e-01],\n",
       "       [-2.74752381e+00, -5.23533333e-01],\n",
       "       [-2.40752381e+00, -3.09533333e-01],\n",
       "       [-2.69752381e+00, -2.11533333e-01],\n",
       "       [-3.49752381e+00, -4.52533333e-01],\n",
       "       [-3.60752381e+00, -5.38533333e-01],\n",
       "       [-3.82752381e+00, -3.03533333e-01],\n",
       "       [-3.29752381e+00, -4.61533333e-01],\n",
       "       [-3.57752381e+00, -5.40533333e-01],\n",
       "       [-3.44752381e+00, -4.92533333e-01],\n",
       "       [-4.01752381e+00, -3.50533333e-01],\n",
       "       [-4.04752381e+00, -6.47533333e-01],\n",
       "       [-3.58752381e+00, -4.42533333e-01],\n",
       "       [-4.10752381e+00, -4.83533333e-01],\n",
       "       [-3.36752381e+00, -4.48533333e-01],\n",
       "       [-2.63752381e+00, -2.71533333e-01],\n",
       "       [-3.43752381e+00, -5.38533333e-01],\n",
       "       [-2.38752381e+00, -3.92533333e-01],\n",
       "       [-2.65752381e+00, -3.88533333e-01],\n",
       "       [-3.19752381e+00, -5.20533333e-01],\n",
       "       [-1.95752381e+00, -1.33533333e-01],\n",
       "       [-3.28752381e+00, -2.65533333e-01],\n",
       "       [-3.03752381e+00, -2.15533333e-01],\n",
       "       [-3.93752381e+00, -5.40533333e-01],\n",
       "       [-3.61752381e+00, -5.39533333e-01],\n",
       "       [-4.25752381e+00, -7.29533333e-01],\n",
       "       [-3.91752381e+00, -5.82533333e-01],\n",
       "       [-3.57752381e+00, -5.37533333e-01],\n",
       "       [-2.97752381e+00, -4.96533333e-01],\n",
       "       [-4.02752381e+00, -4.48533333e-01],\n",
       "       [-2.73752381e+00, -3.92533333e-01],\n",
       "       [-2.04752381e+00, -4.68533333e-01],\n",
       "       [-2.05752381e+00, -4.04533333e-01],\n",
       "       [-1.47752381e+00, -3.08533333e-01],\n",
       "       [-2.22752381e+00, -2.18533333e-01],\n",
       "       [-2.08752381e+00, -5.55533333e-01],\n",
       "       [-2.46752381e+00, -4.09533333e-01],\n",
       "       [-2.17752381e+00, -6.44533333e-01],\n",
       "       [-3.66752381e+00, -6.19533333e-01],\n",
       "       [-2.14752381e+00, -4.45533333e-01],\n",
       "       [-2.47752381e+00, -4.24533333e-01],\n",
       "       [-2.65752381e+00, -4.91533333e-01],\n",
       "       [-3.61752381e+00, -4.88533333e-01],\n",
       "       [-1.64752381e+00, -3.92533333e-01],\n",
       "       [-3.00752381e+00, -4.53533333e-01],\n",
       "       [-2.54752381e+00, -3.85533333e-01]])"
      ]
     },
     "execution_count": 55,
     "metadata": {},
     "output_type": "execute_result"
    }
   ],
   "source": [
    "data_restored = data_transformed.dot(P)\n",
    "data_restored"
   ]
  },
  {
   "cell_type": "code",
   "execution_count": 56,
   "metadata": {},
   "outputs": [],
   "source": [
    "data_restored += means"
   ]
  },
  {
   "cell_type": "markdown",
   "metadata": {},
   "source": [
    "### Visualization the restored in Original datasets"
   ]
  },
  {
   "cell_type": "code",
   "execution_count": 57,
   "metadata": {},
   "outputs": [
    {
     "data": {
      "image/png": "[encoded data removed]",
      "text/plain": [
       "<Figure size 720x504 with 1 Axes>"
      ]
     },
     "metadata": {
      "needs_background": "light"
     },
     "output_type": "display_data"
    }
   ],
   "source": [
    "plt.figure(figsize=(10, 7))\n",
    "plt.scatter(data_restored[:,0], data_restored[:,1], marker='d', label='PCA restoration', c='k')\n",
    "plt.scatter(df['A'], df['LK'], marker='o', label='Original', c='#1f77b4')\n",
    "plt.legend()\n",
    "plt.xlabel('Area of Kernel')\n",
    "plt.ylabel('Length of Kernel')\n",
    "plt.title('Inverse transform after removing variance')\n",
    "plt.show()"
   ]
  },
  {
   "cell_type": "markdown",
   "metadata": {},
   "source": [
    "## Visualization Variance Reduction with Scikit-learn"
   ]
  },
  {
   "cell_type": "code",
   "execution_count": 58,
   "metadata": {},
   "outputs": [],
   "source": [
    "import pandas as pd\n",
    "import numpy as np\n",
    "import matplotlib.pyplot as plt\n",
    "from sklearn.decomposition import PCA"
   ]
  },
  {
   "cell_type": "code",
   "execution_count": 59,
   "metadata": {},
   "outputs": [
    {
     "data": {
      "text/html": [
       "<div>\n",
       "<style scoped>\n",
       "    .dataframe tbody tr th:only-of-type {\n",
       "        vertical-align: middle;\n",
       "    }\n",
       "\n",
       "    .dataframe tbody tr th {\n",
       "        vertical-align: top;\n",
       "    }\n",
       "\n",
       "    .dataframe thead th {\n",
       "        text-align: right;\n",
       "    }\n",
       "</style>\n",
       "<table border=\"1\" class=\"dataframe\">\n",
       "  <thead>\n",
       "    <tr style=\"text-align: right;\">\n",
       "      <th></th>\n",
       "      <th>A</th>\n",
       "      <th>LK</th>\n",
       "    </tr>\n",
       "  </thead>\n",
       "  <tbody>\n",
       "    <tr>\n",
       "      <th>0</th>\n",
       "      <td>15.26</td>\n",
       "      <td>5.763</td>\n",
       "    </tr>\n",
       "    <tr>\n",
       "      <th>1</th>\n",
       "      <td>14.88</td>\n",
       "      <td>5.554</td>\n",
       "    </tr>\n",
       "    <tr>\n",
       "      <th>2</th>\n",
       "      <td>14.29</td>\n",
       "      <td>5.291</td>\n",
       "    </tr>\n",
       "    <tr>\n",
       "      <th>3</th>\n",
       "      <td>13.84</td>\n",
       "      <td>5.324</td>\n",
       "    </tr>\n",
       "    <tr>\n",
       "      <th>4</th>\n",
       "      <td>16.14</td>\n",
       "      <td>5.658</td>\n",
       "    </tr>\n",
       "  </tbody>\n",
       "</table>\n",
       "</div>"
      ],
      "text/plain": [
       "       A     LK\n",
       "0  15.26  5.763\n",
       "1  14.88  5.554\n",
       "2  14.29  5.291\n",
       "3  13.84  5.324\n",
       "4  16.14  5.658"
      ]
     },
     "execution_count": 59,
     "metadata": {},
     "output_type": "execute_result"
    }
   ],
   "source": [
    "df = pd.read_csv('data/Seed_Data.csv')[['A', 'LK']]\n",
    "df.head()"
   ]
  },
  {
   "cell_type": "markdown",
   "metadata": {},
   "source": [
    "### Scikit-learn PCA and Visualiztion"
   ]
  },
  {
   "cell_type": "code",
   "execution_count": 60,
   "metadata": {},
   "outputs": [],
   "source": [
    "model = PCA(n_components=1)\n",
    "data_p = model.fit_transform(df.values)"
   ]
  },
  {
   "cell_type": "code",
   "execution_count": 61,
   "metadata": {},
   "outputs": [
    {
     "data": {
      "image/png": "[encoded data removed]",
      "text/plain": [
       "<Figure size 720x504 with 1 Axes>"
      ]
     },
     "metadata": {
      "needs_background": "light"
     },
     "output_type": "display_data"
    }
   ],
   "source": [
    "data = model.inverse_transform(data_p);\n",
    "plt.figure(figsize=(10, 7))\n",
    "plt.plot(data[:,0], data[:,1], linestyle=':', label='PCA restoration')\n",
    "plt.scatter(df['A'], df['LK'], marker='*', label='Original')\n",
    "plt.legend()\n",
    "plt.xlabel('Area of Kernel')\n",
    "plt.ylabel('Length of Kernel')\n",
    "plt.title('Inverse transform after removing variance')\n",
    "plt.show()"
   ]
  },
  {
   "cell_type": "code",
   "execution_count": 62,
   "metadata": {},
   "outputs": [
    {
     "data": {
      "image/png": "[encoded data removed]",
      "text/plain": [
       "<Figure size 720x504 with 1 Axes>"
      ]
     },
     "metadata": {
      "needs_background": "light"
     },
     "output_type": "display_data"
    }
   ],
   "source": [
    "model = PCA()\n",
    "data_p = model.fit_transform(df.values)\n",
    "data = model.inverse_transform(data_p)\n",
    "plt.figure(figsize=(10, 7))\n",
    "plt.scatter(data[:,0], data[:,1], marker='d', label='PCA restoration', c='k')\n",
    "plt.scatter(df['A'], df['LK'], marker='o', label='Original', c='#1f77b4')\n",
    "plt.legend()\n",
    "plt.xlabel('Area of Kernel')\n",
    "plt.ylabel('Length of Kernel')\n",
    "plt.title('Inverse transform after removing variance')\n",
    "plt.show()"
   ]
  },
  {
   "cell_type": "markdown",
   "metadata": {},
   "source": [
    "## 3D Plots in Matplotlib"
   ]
  },
  {
   "cell_type": "code",
   "execution_count": 63,
   "metadata": {},
   "outputs": [],
   "source": [
    "from mpl_toolkits.mplot3d import Axes3D\n",
    "import pandas as pd\n",
    "import matplotlib.pyplot as plt"
   ]
  },
  {
   "cell_type": "code",
   "execution_count": 64,
   "metadata": {},
   "outputs": [
    {
     "data": {
      "text/html": [
       "<div>\n",
       "<style scoped>\n",
       "    .dataframe tbody tr th:only-of-type {\n",
       "        vertical-align: middle;\n",
       "    }\n",
       "\n",
       "    .dataframe tbody tr th {\n",
       "        vertical-align: top;\n",
       "    }\n",
       "\n",
       "    .dataframe thead th {\n",
       "        text-align: right;\n",
       "    }\n",
       "</style>\n",
       "<table border=\"1\" class=\"dataframe\">\n",
       "  <thead>\n",
       "    <tr style=\"text-align: right;\">\n",
       "      <th></th>\n",
       "      <th>A</th>\n",
       "      <th>LK</th>\n",
       "      <th>C</th>\n",
       "    </tr>\n",
       "  </thead>\n",
       "  <tbody>\n",
       "    <tr>\n",
       "      <th>0</th>\n",
       "      <td>15.26</td>\n",
       "      <td>5.763</td>\n",
       "      <td>0.8710</td>\n",
       "    </tr>\n",
       "    <tr>\n",
       "      <th>1</th>\n",
       "      <td>14.88</td>\n",
       "      <td>5.554</td>\n",
       "      <td>0.8811</td>\n",
       "    </tr>\n",
       "    <tr>\n",
       "      <th>2</th>\n",
       "      <td>14.29</td>\n",
       "      <td>5.291</td>\n",
       "      <td>0.9050</td>\n",
       "    </tr>\n",
       "    <tr>\n",
       "      <th>3</th>\n",
       "      <td>13.84</td>\n",
       "      <td>5.324</td>\n",
       "      <td>0.8955</td>\n",
       "    </tr>\n",
       "    <tr>\n",
       "      <th>4</th>\n",
       "      <td>16.14</td>\n",
       "      <td>5.658</td>\n",
       "      <td>0.9034</td>\n",
       "    </tr>\n",
       "  </tbody>\n",
       "</table>\n",
       "</div>"
      ],
      "text/plain": [
       "       A     LK       C\n",
       "0  15.26  5.763  0.8710\n",
       "1  14.88  5.554  0.8811\n",
       "2  14.29  5.291  0.9050\n",
       "3  13.84  5.324  0.8955\n",
       "4  16.14  5.658  0.9034"
      ]
     },
     "execution_count": 64,
     "metadata": {},
     "output_type": "execute_result"
    }
   ],
   "source": [
    "df = pd.read_csv('data/Seed_Data.csv')[['A', 'LK', 'C']]\n",
    "df.head()"
   ]
  },
  {
   "cell_type": "code",
   "execution_count": 65,
   "metadata": {},
   "outputs": [
    {
     "data": {
      "image/png": "[encoded data removed]",
      "text/plain": [
       "<Figure size 720x504 with 1 Axes>"
      ]
     },
     "metadata": {
      "needs_background": "light"
     },
     "output_type": "display_data"
    }
   ],
   "source": [
    "fig = plt.figure(figsize=(10, 7))\n",
    "ax = fig.add_subplot(111, projection='3d') # Where Axes3D is required\n",
    "\n",
    "ax.scatter(df['A'], df['LK'], df['C'])\n",
    "ax.set_xlabel('Area of Kernel')\n",
    "ax.set_ylabel('Length of Kernel')\n",
    "ax.set_zlabel('Compactness of Kernel')\n",
    "ax.set_title('Expanded Seeds Dataset')\n",
    "plt.show()"
   ]
  },
  {
   "cell_type": "code",
   "execution_count": null,
   "metadata": {},
   "outputs": [],
   "source": []
  }
 ],
 "metadata": {
  "kernelspec": {
   "display_name": "Python 3",
   "language": "python",
   "name": "python3"
  },
  "language_info": {
   "codemirror_mode": {
    "name": "ipython",
    "version": 3
   },
   "file_extension": ".py",
   "mimetype": "text/x-python",
   "name": "python",
   "nbconvert_exporter": "python",
   "pygments_lexer": "ipython3",
   "version": "3.8.5"
  }
 },
 "nbformat": 4,
 "nbformat_minor": 4
}
