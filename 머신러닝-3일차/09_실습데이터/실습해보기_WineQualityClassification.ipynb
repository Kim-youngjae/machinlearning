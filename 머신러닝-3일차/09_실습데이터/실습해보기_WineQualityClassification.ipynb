{
 "cells": [
  {
   "cell_type": "markdown",
   "id": "devoted-october",
   "metadata": {},
   "source": [
    "# 데이터 사이트\n",
    "\n",
    "- AIhub"
   ]
  },
  {
   "cell_type": "markdown",
   "id": "fifth-liability",
   "metadata": {},
   "source": [
    "# 와인 품질 측정\n",
    "- 데이터가 불균형한데 불균형한 것을 해소하기 위한 방법을 찾아보자"
   ]
  },
  {
   "cell_type": "code",
   "execution_count": 1,
   "id": "recognized-douglas",
   "metadata": {},
   "outputs": [],
   "source": [
    "import pandas as pd\n",
    "import os\n",
    "import warnings\n",
    "warnings.filterwarnings('ignore') # 워닝 메세지를 생략해줌"
   ]
  },
  {
   "cell_type": "code",
   "execution_count": 2,
   "id": "sapphire-boundary",
   "metadata": {},
   "outputs": [
    {
     "data": {
      "text/plain": [
       "['.DS_Store', '.ipynb_checkpoints', 'lyft_uber', 'winequalityN_imblance.csv']"
      ]
     },
     "execution_count": 2,
     "metadata": {},
     "output_type": "execute_result"
    }
   ],
   "source": [
    "os.listdir('data')"
   ]
  },
  {
   "cell_type": "code",
   "execution_count": 3,
   "id": "competent-allergy",
   "metadata": {},
   "outputs": [
    {
     "data": {
      "text/html": [
       "<div>\n",
       "<style scoped>\n",
       "    .dataframe tbody tr th:only-of-type {\n",
       "        vertical-align: middle;\n",
       "    }\n",
       "\n",
       "    .dataframe tbody tr th {\n",
       "        vertical-align: top;\n",
       "    }\n",
       "\n",
       "    .dataframe thead th {\n",
       "        text-align: right;\n",
       "    }\n",
       "</style>\n",
       "<table border=\"1\" class=\"dataframe\">\n",
       "  <thead>\n",
       "    <tr style=\"text-align: right;\">\n",
       "      <th></th>\n",
       "      <th>type</th>\n",
       "      <th>fixed_acidity</th>\n",
       "      <th>volatile_acidity</th>\n",
       "      <th>citric_acid</th>\n",
       "      <th>residual_sugar</th>\n",
       "      <th>chlorides</th>\n",
       "      <th>free_sulfur_dioxide</th>\n",
       "      <th>total_sulfur_dioxide</th>\n",
       "      <th>density</th>\n",
       "      <th>pH</th>\n",
       "      <th>sulphates</th>\n",
       "      <th>alcohol</th>\n",
       "      <th>quality_range</th>\n",
       "    </tr>\n",
       "  </thead>\n",
       "  <tbody>\n",
       "    <tr>\n",
       "      <th>0</th>\n",
       "      <td>white</td>\n",
       "      <td>7.0</td>\n",
       "      <td>0.27</td>\n",
       "      <td>0.36</td>\n",
       "      <td>20.7</td>\n",
       "      <td>0.045</td>\n",
       "      <td>45.0</td>\n",
       "      <td>170.0</td>\n",
       "      <td>1.0010</td>\n",
       "      <td>3.00</td>\n",
       "      <td>0.45</td>\n",
       "      <td>8.8</td>\n",
       "      <td>1</td>\n",
       "    </tr>\n",
       "    <tr>\n",
       "      <th>1</th>\n",
       "      <td>white</td>\n",
       "      <td>6.3</td>\n",
       "      <td>0.30</td>\n",
       "      <td>0.34</td>\n",
       "      <td>1.6</td>\n",
       "      <td>0.049</td>\n",
       "      <td>14.0</td>\n",
       "      <td>132.0</td>\n",
       "      <td>0.9940</td>\n",
       "      <td>3.30</td>\n",
       "      <td>0.49</td>\n",
       "      <td>9.5</td>\n",
       "      <td>1</td>\n",
       "    </tr>\n",
       "    <tr>\n",
       "      <th>2</th>\n",
       "      <td>white</td>\n",
       "      <td>8.1</td>\n",
       "      <td>0.28</td>\n",
       "      <td>0.40</td>\n",
       "      <td>6.9</td>\n",
       "      <td>0.050</td>\n",
       "      <td>30.0</td>\n",
       "      <td>97.0</td>\n",
       "      <td>0.9951</td>\n",
       "      <td>3.26</td>\n",
       "      <td>0.44</td>\n",
       "      <td>10.1</td>\n",
       "      <td>1</td>\n",
       "    </tr>\n",
       "    <tr>\n",
       "      <th>3</th>\n",
       "      <td>white</td>\n",
       "      <td>7.2</td>\n",
       "      <td>0.23</td>\n",
       "      <td>0.32</td>\n",
       "      <td>8.5</td>\n",
       "      <td>0.058</td>\n",
       "      <td>47.0</td>\n",
       "      <td>186.0</td>\n",
       "      <td>0.9956</td>\n",
       "      <td>3.19</td>\n",
       "      <td>0.40</td>\n",
       "      <td>9.9</td>\n",
       "      <td>1</td>\n",
       "    </tr>\n",
       "    <tr>\n",
       "      <th>4</th>\n",
       "      <td>white</td>\n",
       "      <td>7.2</td>\n",
       "      <td>0.23</td>\n",
       "      <td>0.32</td>\n",
       "      <td>8.5</td>\n",
       "      <td>0.058</td>\n",
       "      <td>47.0</td>\n",
       "      <td>186.0</td>\n",
       "      <td>0.9956</td>\n",
       "      <td>3.19</td>\n",
       "      <td>0.40</td>\n",
       "      <td>9.9</td>\n",
       "      <td>1</td>\n",
       "    </tr>\n",
       "  </tbody>\n",
       "</table>\n",
       "</div>"
      ],
      "text/plain": [
       "    type  fixed_acidity  volatile_acidity  citric_acid  residual_sugar  \\\n",
       "0  white            7.0              0.27         0.36            20.7   \n",
       "1  white            6.3              0.30         0.34             1.6   \n",
       "2  white            8.1              0.28         0.40             6.9   \n",
       "3  white            7.2              0.23         0.32             8.5   \n",
       "4  white            7.2              0.23         0.32             8.5   \n",
       "\n",
       "   chlorides  free_sulfur_dioxide  total_sulfur_dioxide  density    pH  \\\n",
       "0      0.045                 45.0                 170.0   1.0010  3.00   \n",
       "1      0.049                 14.0                 132.0   0.9940  3.30   \n",
       "2      0.050                 30.0                  97.0   0.9951  3.26   \n",
       "3      0.058                 47.0                 186.0   0.9956  3.19   \n",
       "4      0.058                 47.0                 186.0   0.9956  3.19   \n",
       "\n",
       "   sulphates  alcohol  quality_range  \n",
       "0       0.45      8.8              1  \n",
       "1       0.49      9.5              1  \n",
       "2       0.44     10.1              1  \n",
       "3       0.40      9.9              1  \n",
       "4       0.40      9.9              1  "
      ]
     },
     "execution_count": 3,
     "metadata": {},
     "output_type": "execute_result"
    }
   ],
   "source": [
    "wine = pd.read_csv('data/winequalityN_imblance.csv')\n",
    "\n",
    "wine.head()"
   ]
  },
  {
   "cell_type": "code",
   "execution_count": 4,
   "id": "anticipated-tragedy",
   "metadata": {},
   "outputs": [
    {
     "name": "stdout",
     "output_type": "stream",
     "text": [
      "<class 'pandas.core.frame.DataFrame'>\n",
      "RangeIndex: 6497 entries, 0 to 6496\n",
      "Data columns (total 13 columns):\n",
      " #   Column                Non-Null Count  Dtype  \n",
      "---  ------                --------------  -----  \n",
      " 0   type                  6497 non-null   object \n",
      " 1   fixed_acidity         6487 non-null   float64\n",
      " 2   volatile_acidity      6489 non-null   float64\n",
      " 3   citric_acid           6494 non-null   float64\n",
      " 4   residual_sugar        6495 non-null   float64\n",
      " 5   chlorides             6495 non-null   float64\n",
      " 6   free_sulfur_dioxide   6497 non-null   float64\n",
      " 7   total_sulfur_dioxide  6497 non-null   float64\n",
      " 8   density               6497 non-null   float64\n",
      " 9   pH                    6488 non-null   float64\n",
      " 10  sulphates             6493 non-null   float64\n",
      " 11  alcohol               6497 non-null   float64\n",
      " 12  quality_range         6497 non-null   int64  \n",
      "dtypes: float64(11), int64(1), object(1)\n",
      "memory usage: 660.0+ KB\n"
     ]
    }
   ],
   "source": [
    "wine.info()"
   ]
  },
  {
   "cell_type": "code",
   "execution_count": 5,
   "id": "collective-adventure",
   "metadata": {
    "scrolled": true
   },
   "outputs": [],
   "source": [
    "wine = wine.dropna()"
   ]
  },
  {
   "cell_type": "code",
   "execution_count": 6,
   "id": "second-aspect",
   "metadata": {
    "scrolled": true
   },
   "outputs": [
    {
     "data": {
      "text/html": [
       "<div>\n",
       "<style scoped>\n",
       "    .dataframe tbody tr th:only-of-type {\n",
       "        vertical-align: middle;\n",
       "    }\n",
       "\n",
       "    .dataframe tbody tr th {\n",
       "        vertical-align: top;\n",
       "    }\n",
       "\n",
       "    .dataframe thead th {\n",
       "        text-align: right;\n",
       "    }\n",
       "</style>\n",
       "<table border=\"1\" class=\"dataframe\">\n",
       "  <thead>\n",
       "    <tr style=\"text-align: right;\">\n",
       "      <th></th>\n",
       "      <th>type</th>\n",
       "      <th>fixed_acidity</th>\n",
       "      <th>volatile_acidity</th>\n",
       "      <th>citric_acid</th>\n",
       "      <th>residual_sugar</th>\n",
       "      <th>chlorides</th>\n",
       "      <th>free_sulfur_dioxide</th>\n",
       "      <th>total_sulfur_dioxide</th>\n",
       "      <th>density</th>\n",
       "      <th>pH</th>\n",
       "      <th>sulphates</th>\n",
       "      <th>alcohol</th>\n",
       "      <th>quality_range</th>\n",
       "    </tr>\n",
       "  </thead>\n",
       "  <tbody>\n",
       "    <tr>\n",
       "      <th>0</th>\n",
       "      <td>white</td>\n",
       "      <td>7.0</td>\n",
       "      <td>0.270</td>\n",
       "      <td>0.36</td>\n",
       "      <td>20.7</td>\n",
       "      <td>0.045</td>\n",
       "      <td>45.0</td>\n",
       "      <td>170.0</td>\n",
       "      <td>1.00100</td>\n",
       "      <td>3.00</td>\n",
       "      <td>0.45</td>\n",
       "      <td>8.8</td>\n",
       "      <td>1</td>\n",
       "    </tr>\n",
       "    <tr>\n",
       "      <th>1</th>\n",
       "      <td>white</td>\n",
       "      <td>6.3</td>\n",
       "      <td>0.300</td>\n",
       "      <td>0.34</td>\n",
       "      <td>1.6</td>\n",
       "      <td>0.049</td>\n",
       "      <td>14.0</td>\n",
       "      <td>132.0</td>\n",
       "      <td>0.99400</td>\n",
       "      <td>3.30</td>\n",
       "      <td>0.49</td>\n",
       "      <td>9.5</td>\n",
       "      <td>1</td>\n",
       "    </tr>\n",
       "    <tr>\n",
       "      <th>2</th>\n",
       "      <td>white</td>\n",
       "      <td>8.1</td>\n",
       "      <td>0.280</td>\n",
       "      <td>0.40</td>\n",
       "      <td>6.9</td>\n",
       "      <td>0.050</td>\n",
       "      <td>30.0</td>\n",
       "      <td>97.0</td>\n",
       "      <td>0.99510</td>\n",
       "      <td>3.26</td>\n",
       "      <td>0.44</td>\n",
       "      <td>10.1</td>\n",
       "      <td>1</td>\n",
       "    </tr>\n",
       "    <tr>\n",
       "      <th>3</th>\n",
       "      <td>white</td>\n",
       "      <td>7.2</td>\n",
       "      <td>0.230</td>\n",
       "      <td>0.32</td>\n",
       "      <td>8.5</td>\n",
       "      <td>0.058</td>\n",
       "      <td>47.0</td>\n",
       "      <td>186.0</td>\n",
       "      <td>0.99560</td>\n",
       "      <td>3.19</td>\n",
       "      <td>0.40</td>\n",
       "      <td>9.9</td>\n",
       "      <td>1</td>\n",
       "    </tr>\n",
       "    <tr>\n",
       "      <th>4</th>\n",
       "      <td>white</td>\n",
       "      <td>7.2</td>\n",
       "      <td>0.230</td>\n",
       "      <td>0.32</td>\n",
       "      <td>8.5</td>\n",
       "      <td>0.058</td>\n",
       "      <td>47.0</td>\n",
       "      <td>186.0</td>\n",
       "      <td>0.99560</td>\n",
       "      <td>3.19</td>\n",
       "      <td>0.40</td>\n",
       "      <td>9.9</td>\n",
       "      <td>1</td>\n",
       "    </tr>\n",
       "    <tr>\n",
       "      <th>...</th>\n",
       "      <td>...</td>\n",
       "      <td>...</td>\n",
       "      <td>...</td>\n",
       "      <td>...</td>\n",
       "      <td>...</td>\n",
       "      <td>...</td>\n",
       "      <td>...</td>\n",
       "      <td>...</td>\n",
       "      <td>...</td>\n",
       "      <td>...</td>\n",
       "      <td>...</td>\n",
       "      <td>...</td>\n",
       "      <td>...</td>\n",
       "    </tr>\n",
       "    <tr>\n",
       "      <th>6491</th>\n",
       "      <td>red</td>\n",
       "      <td>6.8</td>\n",
       "      <td>0.620</td>\n",
       "      <td>0.08</td>\n",
       "      <td>1.9</td>\n",
       "      <td>0.068</td>\n",
       "      <td>28.0</td>\n",
       "      <td>38.0</td>\n",
       "      <td>0.99651</td>\n",
       "      <td>3.42</td>\n",
       "      <td>0.82</td>\n",
       "      <td>9.5</td>\n",
       "      <td>1</td>\n",
       "    </tr>\n",
       "    <tr>\n",
       "      <th>6492</th>\n",
       "      <td>red</td>\n",
       "      <td>6.2</td>\n",
       "      <td>0.600</td>\n",
       "      <td>0.08</td>\n",
       "      <td>2.0</td>\n",
       "      <td>0.090</td>\n",
       "      <td>32.0</td>\n",
       "      <td>44.0</td>\n",
       "      <td>0.99490</td>\n",
       "      <td>3.45</td>\n",
       "      <td>0.58</td>\n",
       "      <td>10.5</td>\n",
       "      <td>1</td>\n",
       "    </tr>\n",
       "    <tr>\n",
       "      <th>6494</th>\n",
       "      <td>red</td>\n",
       "      <td>6.3</td>\n",
       "      <td>0.510</td>\n",
       "      <td>0.13</td>\n",
       "      <td>2.3</td>\n",
       "      <td>0.076</td>\n",
       "      <td>29.0</td>\n",
       "      <td>40.0</td>\n",
       "      <td>0.99574</td>\n",
       "      <td>3.42</td>\n",
       "      <td>0.75</td>\n",
       "      <td>11.0</td>\n",
       "      <td>1</td>\n",
       "    </tr>\n",
       "    <tr>\n",
       "      <th>6495</th>\n",
       "      <td>red</td>\n",
       "      <td>5.9</td>\n",
       "      <td>0.645</td>\n",
       "      <td>0.12</td>\n",
       "      <td>2.0</td>\n",
       "      <td>0.075</td>\n",
       "      <td>32.0</td>\n",
       "      <td>44.0</td>\n",
       "      <td>0.99547</td>\n",
       "      <td>3.57</td>\n",
       "      <td>0.71</td>\n",
       "      <td>10.2</td>\n",
       "      <td>1</td>\n",
       "    </tr>\n",
       "    <tr>\n",
       "      <th>6496</th>\n",
       "      <td>red</td>\n",
       "      <td>6.0</td>\n",
       "      <td>0.310</td>\n",
       "      <td>0.47</td>\n",
       "      <td>3.6</td>\n",
       "      <td>0.067</td>\n",
       "      <td>18.0</td>\n",
       "      <td>42.0</td>\n",
       "      <td>0.99549</td>\n",
       "      <td>3.39</td>\n",
       "      <td>0.66</td>\n",
       "      <td>11.0</td>\n",
       "      <td>1</td>\n",
       "    </tr>\n",
       "  </tbody>\n",
       "</table>\n",
       "<p>6463 rows × 13 columns</p>\n",
       "</div>"
      ],
      "text/plain": [
       "       type  fixed_acidity  volatile_acidity  citric_acid  residual_sugar  \\\n",
       "0     white            7.0             0.270         0.36            20.7   \n",
       "1     white            6.3             0.300         0.34             1.6   \n",
       "2     white            8.1             0.280         0.40             6.9   \n",
       "3     white            7.2             0.230         0.32             8.5   \n",
       "4     white            7.2             0.230         0.32             8.5   \n",
       "...     ...            ...               ...          ...             ...   \n",
       "6491    red            6.8             0.620         0.08             1.9   \n",
       "6492    red            6.2             0.600         0.08             2.0   \n",
       "6494    red            6.3             0.510         0.13             2.3   \n",
       "6495    red            5.9             0.645         0.12             2.0   \n",
       "6496    red            6.0             0.310         0.47             3.6   \n",
       "\n",
       "      chlorides  free_sulfur_dioxide  total_sulfur_dioxide  density    pH  \\\n",
       "0         0.045                 45.0                 170.0  1.00100  3.00   \n",
       "1         0.049                 14.0                 132.0  0.99400  3.30   \n",
       "2         0.050                 30.0                  97.0  0.99510  3.26   \n",
       "3         0.058                 47.0                 186.0  0.99560  3.19   \n",
       "4         0.058                 47.0                 186.0  0.99560  3.19   \n",
       "...         ...                  ...                   ...      ...   ...   \n",
       "6491      0.068                 28.0                  38.0  0.99651  3.42   \n",
       "6492      0.090                 32.0                  44.0  0.99490  3.45   \n",
       "6494      0.076                 29.0                  40.0  0.99574  3.42   \n",
       "6495      0.075                 32.0                  44.0  0.99547  3.57   \n",
       "6496      0.067                 18.0                  42.0  0.99549  3.39   \n",
       "\n",
       "      sulphates  alcohol  quality_range  \n",
       "0          0.45      8.8              1  \n",
       "1          0.49      9.5              1  \n",
       "2          0.44     10.1              1  \n",
       "3          0.40      9.9              1  \n",
       "4          0.40      9.9              1  \n",
       "...         ...      ...            ...  \n",
       "6491       0.82      9.5              1  \n",
       "6492       0.58     10.5              1  \n",
       "6494       0.75     11.0              1  \n",
       "6495       0.71     10.2              1  \n",
       "6496       0.66     11.0              1  \n",
       "\n",
       "[6463 rows x 13 columns]"
      ]
     },
     "execution_count": 6,
     "metadata": {},
     "output_type": "execute_result"
    }
   ],
   "source": [
    "wine.isna().sum()\n",
    "wine"
   ]
  },
  {
   "cell_type": "code",
   "execution_count": 7,
   "id": "czech-tribune",
   "metadata": {},
   "outputs": [],
   "source": [
    "wine_type = pd.get_dummies(wine['type'], drop_first=True)"
   ]
  },
  {
   "cell_type": "code",
   "execution_count": 8,
   "id": "interracial-snake",
   "metadata": {},
   "outputs": [],
   "source": [
    "wine = pd.concat([wine.drop(['type'], axis=1), wine_type], axis=1)"
   ]
  },
  {
   "cell_type": "code",
   "execution_count": 9,
   "id": "stainless-friendship",
   "metadata": {
    "scrolled": true
   },
   "outputs": [
    {
     "data": {
      "image/png": "[encoded data removed]",
      "text/plain": [
       "<Figure size 432x288 with 2 Axes>"
      ]
     },
     "metadata": {
      "needs_background": "light"
     },
     "output_type": "display_data"
    }
   ],
   "source": [
    "import seaborn as sns\n",
    "import matplotlib.pyplot as plt\n",
    "sns.heatmap(wine.corr(), annot=True, cmap=\"coolwarm\")\n",
    "sns.set(rc = {'figure.figsize':(30, 20)})\n",
    "plt.show()"
   ]
  },
  {
   "cell_type": "code",
   "execution_count": 10,
   "id": "infrared-warner",
   "metadata": {
    "scrolled": true
   },
   "outputs": [
    {
     "data": {
      "image/png": "[encoded data removed]",
      "text/plain": [
       "<Figure size 2160x1440 with 1 Axes>"
      ]
     },
     "metadata": {},
     "output_type": "display_data"
    }
   ],
   "source": [
    "pd.value_counts(wine['quality_range']).plot.bar()\n",
    "plt.title('quality histogram')\n",
    "plt.xlabel('Quality')\n",
    "plt.ylabel('Frequency')\n",
    "plt.show()"
   ]
  },
  {
   "cell_type": "code",
   "execution_count": 11,
   "id": "private-operation",
   "metadata": {
    "scrolled": false
   },
   "outputs": [
    {
     "data": {
      "text/html": [
       "<div>\n",
       "<style scoped>\n",
       "    .dataframe tbody tr th:only-of-type {\n",
       "        vertical-align: middle;\n",
       "    }\n",
       "\n",
       "    .dataframe tbody tr th {\n",
       "        vertical-align: top;\n",
       "    }\n",
       "\n",
       "    .dataframe thead th {\n",
       "        text-align: right;\n",
       "    }\n",
       "</style>\n",
       "<table border=\"1\" class=\"dataframe\">\n",
       "  <thead>\n",
       "    <tr style=\"text-align: right;\">\n",
       "      <th></th>\n",
       "      <th>fixed_acidity</th>\n",
       "      <th>volatile_acidity</th>\n",
       "      <th>citric_acid</th>\n",
       "      <th>residual_sugar</th>\n",
       "      <th>chlorides</th>\n",
       "      <th>free_sulfur_dioxide</th>\n",
       "      <th>total_sulfur_dioxide</th>\n",
       "      <th>density</th>\n",
       "      <th>pH</th>\n",
       "      <th>sulphates</th>\n",
       "      <th>alcohol</th>\n",
       "      <th>quality_range</th>\n",
       "      <th>white</th>\n",
       "    </tr>\n",
       "  </thead>\n",
       "  <tbody>\n",
       "    <tr>\n",
       "      <th>0</th>\n",
       "      <td>7.0</td>\n",
       "      <td>0.27</td>\n",
       "      <td>0.36</td>\n",
       "      <td>20.7</td>\n",
       "      <td>0.045</td>\n",
       "      <td>45.0</td>\n",
       "      <td>170.0</td>\n",
       "      <td>1.0010</td>\n",
       "      <td>3.00</td>\n",
       "      <td>0.45</td>\n",
       "      <td>8.8</td>\n",
       "      <td>1</td>\n",
       "      <td>1</td>\n",
       "    </tr>\n",
       "    <tr>\n",
       "      <th>1</th>\n",
       "      <td>6.3</td>\n",
       "      <td>0.30</td>\n",
       "      <td>0.34</td>\n",
       "      <td>1.6</td>\n",
       "      <td>0.049</td>\n",
       "      <td>14.0</td>\n",
       "      <td>132.0</td>\n",
       "      <td>0.9940</td>\n",
       "      <td>3.30</td>\n",
       "      <td>0.49</td>\n",
       "      <td>9.5</td>\n",
       "      <td>1</td>\n",
       "      <td>1</td>\n",
       "    </tr>\n",
       "    <tr>\n",
       "      <th>2</th>\n",
       "      <td>8.1</td>\n",
       "      <td>0.28</td>\n",
       "      <td>0.40</td>\n",
       "      <td>6.9</td>\n",
       "      <td>0.050</td>\n",
       "      <td>30.0</td>\n",
       "      <td>97.0</td>\n",
       "      <td>0.9951</td>\n",
       "      <td>3.26</td>\n",
       "      <td>0.44</td>\n",
       "      <td>10.1</td>\n",
       "      <td>1</td>\n",
       "      <td>1</td>\n",
       "    </tr>\n",
       "    <tr>\n",
       "      <th>3</th>\n",
       "      <td>7.2</td>\n",
       "      <td>0.23</td>\n",
       "      <td>0.32</td>\n",
       "      <td>8.5</td>\n",
       "      <td>0.058</td>\n",
       "      <td>47.0</td>\n",
       "      <td>186.0</td>\n",
       "      <td>0.9956</td>\n",
       "      <td>3.19</td>\n",
       "      <td>0.40</td>\n",
       "      <td>9.9</td>\n",
       "      <td>1</td>\n",
       "      <td>1</td>\n",
       "    </tr>\n",
       "    <tr>\n",
       "      <th>4</th>\n",
       "      <td>7.2</td>\n",
       "      <td>0.23</td>\n",
       "      <td>0.32</td>\n",
       "      <td>8.5</td>\n",
       "      <td>0.058</td>\n",
       "      <td>47.0</td>\n",
       "      <td>186.0</td>\n",
       "      <td>0.9956</td>\n",
       "      <td>3.19</td>\n",
       "      <td>0.40</td>\n",
       "      <td>9.9</td>\n",
       "      <td>1</td>\n",
       "      <td>1</td>\n",
       "    </tr>\n",
       "  </tbody>\n",
       "</table>\n",
       "</div>"
      ],
      "text/plain": [
       "   fixed_acidity  volatile_acidity  citric_acid  residual_sugar  chlorides  \\\n",
       "0            7.0              0.27         0.36            20.7      0.045   \n",
       "1            6.3              0.30         0.34             1.6      0.049   \n",
       "2            8.1              0.28         0.40             6.9      0.050   \n",
       "3            7.2              0.23         0.32             8.5      0.058   \n",
       "4            7.2              0.23         0.32             8.5      0.058   \n",
       "\n",
       "   free_sulfur_dioxide  total_sulfur_dioxide  density    pH  sulphates  \\\n",
       "0                 45.0                 170.0   1.0010  3.00       0.45   \n",
       "1                 14.0                 132.0   0.9940  3.30       0.49   \n",
       "2                 30.0                  97.0   0.9951  3.26       0.44   \n",
       "3                 47.0                 186.0   0.9956  3.19       0.40   \n",
       "4                 47.0                 186.0   0.9956  3.19       0.40   \n",
       "\n",
       "   alcohol  quality_range  white  \n",
       "0      8.8              1      1  \n",
       "1      9.5              1      1  \n",
       "2     10.1              1      1  \n",
       "3      9.9              1      1  \n",
       "4      9.9              1      1  "
      ]
     },
     "execution_count": 11,
     "metadata": {},
     "output_type": "execute_result"
    }
   ],
   "source": [
    "wine.head()"
   ]
  },
  {
   "cell_type": "code",
   "execution_count": 12,
   "id": "rational-radar",
   "metadata": {
    "scrolled": true
   },
   "outputs": [
    {
     "data": {
      "text/html": [
       "<div>\n",
       "<style scoped>\n",
       "    .dataframe tbody tr th:only-of-type {\n",
       "        vertical-align: middle;\n",
       "    }\n",
       "\n",
       "    .dataframe tbody tr th {\n",
       "        vertical-align: top;\n",
       "    }\n",
       "\n",
       "    .dataframe thead th {\n",
       "        text-align: right;\n",
       "    }\n",
       "</style>\n",
       "<table border=\"1\" class=\"dataframe\">\n",
       "  <thead>\n",
       "    <tr style=\"text-align: right;\">\n",
       "      <th></th>\n",
       "      <th>fixed_acidity</th>\n",
       "      <th>volatile_acidity</th>\n",
       "      <th>citric_acid</th>\n",
       "      <th>residual_sugar</th>\n",
       "      <th>chlorides</th>\n",
       "      <th>free_sulfur_dioxide</th>\n",
       "      <th>total_sulfur_dioxide</th>\n",
       "      <th>density</th>\n",
       "      <th>pH</th>\n",
       "      <th>sulphates</th>\n",
       "      <th>alcohol</th>\n",
       "      <th>quality_range</th>\n",
       "      <th>white</th>\n",
       "    </tr>\n",
       "  </thead>\n",
       "  <tbody>\n",
       "    <tr>\n",
       "      <th>fixed_acidity</th>\n",
       "      <td>1.000000</td>\n",
       "      <td>0.221066</td>\n",
       "      <td>0.323744</td>\n",
       "      <td>-0.113442</td>\n",
       "      <td>0.299104</td>\n",
       "      <td>-0.283485</td>\n",
       "      <td>-0.330543</td>\n",
       "      <td>0.459713</td>\n",
       "      <td>-0.251121</td>\n",
       "      <td>0.301263</td>\n",
       "      <td>-0.096190</td>\n",
       "      <td>-0.020434</td>\n",
       "      <td>-0.488552</td>\n",
       "    </tr>\n",
       "    <tr>\n",
       "      <th>volatile_acidity</th>\n",
       "      <td>0.221066</td>\n",
       "      <td>1.000000</td>\n",
       "      <td>-0.377512</td>\n",
       "      <td>-0.196677</td>\n",
       "      <td>0.377995</td>\n",
       "      <td>-0.353402</td>\n",
       "      <td>-0.414729</td>\n",
       "      <td>0.272101</td>\n",
       "      <td>0.260134</td>\n",
       "      <td>0.225656</td>\n",
       "      <td>-0.039528</td>\n",
       "      <td>-0.151288</td>\n",
       "      <td>-0.653374</td>\n",
       "    </tr>\n",
       "    <tr>\n",
       "      <th>citric_acid</th>\n",
       "      <td>0.323744</td>\n",
       "      <td>-0.377512</td>\n",
       "      <td>1.000000</td>\n",
       "      <td>0.142324</td>\n",
       "      <td>0.039412</td>\n",
       "      <td>0.132271</td>\n",
       "      <td>0.194398</td>\n",
       "      <td>0.097068</td>\n",
       "      <td>-0.327860</td>\n",
       "      <td>0.059070</td>\n",
       "      <td>-0.010056</td>\n",
       "      <td>0.061912</td>\n",
       "      <td>0.185892</td>\n",
       "    </tr>\n",
       "    <tr>\n",
       "      <th>residual_sugar</th>\n",
       "      <td>-0.113442</td>\n",
       "      <td>-0.196677</td>\n",
       "      <td>0.142324</td>\n",
       "      <td>1.000000</td>\n",
       "      <td>-0.128814</td>\n",
       "      <td>0.403449</td>\n",
       "      <td>0.495684</td>\n",
       "      <td>0.551494</td>\n",
       "      <td>-0.266481</td>\n",
       "      <td>-0.185616</td>\n",
       "      <td>-0.359132</td>\n",
       "      <td>0.049721</td>\n",
       "      <td>0.349358</td>\n",
       "    </tr>\n",
       "    <tr>\n",
       "      <th>chlorides</th>\n",
       "      <td>0.299104</td>\n",
       "      <td>0.377995</td>\n",
       "      <td>0.039412</td>\n",
       "      <td>-0.128814</td>\n",
       "      <td>1.000000</td>\n",
       "      <td>-0.195428</td>\n",
       "      <td>-0.279602</td>\n",
       "      <td>0.363108</td>\n",
       "      <td>0.044653</td>\n",
       "      <td>0.396240</td>\n",
       "      <td>-0.257664</td>\n",
       "      <td>-0.033430</td>\n",
       "      <td>-0.512705</td>\n",
       "    </tr>\n",
       "    <tr>\n",
       "      <th>free_sulfur_dioxide</th>\n",
       "      <td>-0.283485</td>\n",
       "      <td>-0.353402</td>\n",
       "      <td>0.132271</td>\n",
       "      <td>0.403449</td>\n",
       "      <td>-0.195428</td>\n",
       "      <td>1.000000</td>\n",
       "      <td>0.721476</td>\n",
       "      <td>0.025113</td>\n",
       "      <td>-0.145164</td>\n",
       "      <td>-0.188947</td>\n",
       "      <td>-0.179477</td>\n",
       "      <td>0.083665</td>\n",
       "      <td>0.472653</td>\n",
       "    </tr>\n",
       "    <tr>\n",
       "      <th>total_sulfur_dioxide</th>\n",
       "      <td>-0.330543</td>\n",
       "      <td>-0.414729</td>\n",
       "      <td>0.194398</td>\n",
       "      <td>0.495684</td>\n",
       "      <td>-0.279602</td>\n",
       "      <td>0.721476</td>\n",
       "      <td>1.000000</td>\n",
       "      <td>0.031419</td>\n",
       "      <td>-0.237204</td>\n",
       "      <td>-0.275878</td>\n",
       "      <td>-0.264385</td>\n",
       "      <td>0.033622</td>\n",
       "      <td>0.700521</td>\n",
       "    </tr>\n",
       "    <tr>\n",
       "      <th>density</th>\n",
       "      <td>0.459713</td>\n",
       "      <td>0.272101</td>\n",
       "      <td>0.097068</td>\n",
       "      <td>0.551494</td>\n",
       "      <td>0.363108</td>\n",
       "      <td>0.025113</td>\n",
       "      <td>0.031419</td>\n",
       "      <td>1.000000</td>\n",
       "      <td>0.012525</td>\n",
       "      <td>0.260019</td>\n",
       "      <td>-0.687432</td>\n",
       "      <td>-0.015563</td>\n",
       "      <td>-0.391437</td>\n",
       "    </tr>\n",
       "    <tr>\n",
       "      <th>pH</th>\n",
       "      <td>-0.251121</td>\n",
       "      <td>0.260134</td>\n",
       "      <td>-0.327860</td>\n",
       "      <td>-0.266481</td>\n",
       "      <td>0.044653</td>\n",
       "      <td>-0.145164</td>\n",
       "      <td>-0.237204</td>\n",
       "      <td>0.012525</td>\n",
       "      <td>1.000000</td>\n",
       "      <td>0.190864</td>\n",
       "      <td>0.120473</td>\n",
       "      <td>-0.020704</td>\n",
       "      <td>-0.328474</td>\n",
       "    </tr>\n",
       "    <tr>\n",
       "      <th>sulphates</th>\n",
       "      <td>0.301263</td>\n",
       "      <td>0.225656</td>\n",
       "      <td>0.059070</td>\n",
       "      <td>-0.185616</td>\n",
       "      <td>0.396240</td>\n",
       "      <td>-0.188947</td>\n",
       "      <td>-0.275878</td>\n",
       "      <td>0.260019</td>\n",
       "      <td>0.190864</td>\n",
       "      <td>1.000000</td>\n",
       "      <td>-0.004116</td>\n",
       "      <td>0.033586</td>\n",
       "      <td>-0.486715</td>\n",
       "    </tr>\n",
       "    <tr>\n",
       "      <th>alcohol</th>\n",
       "      <td>-0.096190</td>\n",
       "      <td>-0.039528</td>\n",
       "      <td>-0.010056</td>\n",
       "      <td>-0.359132</td>\n",
       "      <td>-0.257664</td>\n",
       "      <td>-0.179477</td>\n",
       "      <td>-0.264385</td>\n",
       "      <td>-0.687432</td>\n",
       "      <td>0.120473</td>\n",
       "      <td>-0.004116</td>\n",
       "      <td>1.000000</td>\n",
       "      <td>0.051713</td>\n",
       "      <td>0.035095</td>\n",
       "    </tr>\n",
       "    <tr>\n",
       "      <th>quality_range</th>\n",
       "      <td>-0.020434</td>\n",
       "      <td>-0.151288</td>\n",
       "      <td>0.061912</td>\n",
       "      <td>0.049721</td>\n",
       "      <td>-0.033430</td>\n",
       "      <td>0.083665</td>\n",
       "      <td>0.033622</td>\n",
       "      <td>-0.015563</td>\n",
       "      <td>-0.020704</td>\n",
       "      <td>0.033586</td>\n",
       "      <td>0.051713</td>\n",
       "      <td>1.000000</td>\n",
       "      <td>0.003502</td>\n",
       "    </tr>\n",
       "    <tr>\n",
       "      <th>white</th>\n",
       "      <td>-0.488552</td>\n",
       "      <td>-0.653374</td>\n",
       "      <td>0.185892</td>\n",
       "      <td>0.349358</td>\n",
       "      <td>-0.512705</td>\n",
       "      <td>0.472653</td>\n",
       "      <td>0.700521</td>\n",
       "      <td>-0.391437</td>\n",
       "      <td>-0.328474</td>\n",
       "      <td>-0.486715</td>\n",
       "      <td>0.035095</td>\n",
       "      <td>0.003502</td>\n",
       "      <td>1.000000</td>\n",
       "    </tr>\n",
       "  </tbody>\n",
       "</table>\n",
       "</div>"
      ],
      "text/plain": [
       "                      fixed_acidity  volatile_acidity  citric_acid  \\\n",
       "fixed_acidity              1.000000          0.221066     0.323744   \n",
       "volatile_acidity           0.221066          1.000000    -0.377512   \n",
       "citric_acid                0.323744         -0.377512     1.000000   \n",
       "residual_sugar            -0.113442         -0.196677     0.142324   \n",
       "chlorides                  0.299104          0.377995     0.039412   \n",
       "free_sulfur_dioxide       -0.283485         -0.353402     0.132271   \n",
       "total_sulfur_dioxide      -0.330543         -0.414729     0.194398   \n",
       "density                    0.459713          0.272101     0.097068   \n",
       "pH                        -0.251121          0.260134    -0.327860   \n",
       "sulphates                  0.301263          0.225656     0.059070   \n",
       "alcohol                   -0.096190         -0.039528    -0.010056   \n",
       "quality_range             -0.020434         -0.151288     0.061912   \n",
       "white                     -0.488552         -0.653374     0.185892   \n",
       "\n",
       "                      residual_sugar  chlorides  free_sulfur_dioxide  \\\n",
       "fixed_acidity              -0.113442   0.299104            -0.283485   \n",
       "volatile_acidity           -0.196677   0.377995            -0.353402   \n",
       "citric_acid                 0.142324   0.039412             0.132271   \n",
       "residual_sugar              1.000000  -0.128814             0.403449   \n",
       "chlorides                  -0.128814   1.000000            -0.195428   \n",
       "free_sulfur_dioxide         0.403449  -0.195428             1.000000   \n",
       "total_sulfur_dioxide        0.495684  -0.279602             0.721476   \n",
       "density                     0.551494   0.363108             0.025113   \n",
       "pH                         -0.266481   0.044653            -0.145164   \n",
       "sulphates                  -0.185616   0.396240            -0.188947   \n",
       "alcohol                    -0.359132  -0.257664            -0.179477   \n",
       "quality_range               0.049721  -0.033430             0.083665   \n",
       "white                       0.349358  -0.512705             0.472653   \n",
       "\n",
       "                      total_sulfur_dioxide   density        pH  sulphates  \\\n",
       "fixed_acidity                    -0.330543  0.459713 -0.251121   0.301263   \n",
       "volatile_acidity                 -0.414729  0.272101  0.260134   0.225656   \n",
       "citric_acid                       0.194398  0.097068 -0.327860   0.059070   \n",
       "residual_sugar                    0.495684  0.551494 -0.266481  -0.185616   \n",
       "chlorides                        -0.279602  0.363108  0.044653   0.396240   \n",
       "free_sulfur_dioxide               0.721476  0.025113 -0.145164  -0.188947   \n",
       "total_sulfur_dioxide              1.000000  0.031419 -0.237204  -0.275878   \n",
       "density                           0.031419  1.000000  0.012525   0.260019   \n",
       "pH                               -0.237204  0.012525  1.000000   0.190864   \n",
       "sulphates                        -0.275878  0.260019  0.190864   1.000000   \n",
       "alcohol                          -0.264385 -0.687432  0.120473  -0.004116   \n",
       "quality_range                     0.033622 -0.015563 -0.020704   0.033586   \n",
       "white                             0.700521 -0.391437 -0.328474  -0.486715   \n",
       "\n",
       "                       alcohol  quality_range     white  \n",
       "fixed_acidity        -0.096190      -0.020434 -0.488552  \n",
       "volatile_acidity     -0.039528      -0.151288 -0.653374  \n",
       "citric_acid          -0.010056       0.061912  0.185892  \n",
       "residual_sugar       -0.359132       0.049721  0.349358  \n",
       "chlorides            -0.257664      -0.033430 -0.512705  \n",
       "free_sulfur_dioxide  -0.179477       0.083665  0.472653  \n",
       "total_sulfur_dioxide -0.264385       0.033622  0.700521  \n",
       "density              -0.687432      -0.015563 -0.391437  \n",
       "pH                    0.120473      -0.020704 -0.328474  \n",
       "sulphates            -0.004116       0.033586 -0.486715  \n",
       "alcohol               1.000000       0.051713  0.035095  \n",
       "quality_range         0.051713       1.000000  0.003502  \n",
       "white                 0.035095       0.003502  1.000000  "
      ]
     },
     "execution_count": 12,
     "metadata": {},
     "output_type": "execute_result"
    }
   ],
   "source": [
    "wine.corr()"
   ]
  },
  {
   "cell_type": "code",
   "execution_count": 13,
   "id": "relevant-dealing",
   "metadata": {
    "scrolled": false
   },
   "outputs": [
    {
     "data": {
      "text/html": [
       "<div>\n",
       "<style scoped>\n",
       "    .dataframe tbody tr th:only-of-type {\n",
       "        vertical-align: middle;\n",
       "    }\n",
       "\n",
       "    .dataframe tbody tr th {\n",
       "        vertical-align: top;\n",
       "    }\n",
       "\n",
       "    .dataframe thead th {\n",
       "        text-align: right;\n",
       "    }\n",
       "</style>\n",
       "<table border=\"1\" class=\"dataframe\">\n",
       "  <thead>\n",
       "    <tr style=\"text-align: right;\">\n",
       "      <th></th>\n",
       "      <th>pH</th>\n",
       "      <th>alcohol</th>\n",
       "    </tr>\n",
       "    <tr>\n",
       "      <th>quality_range</th>\n",
       "      <th></th>\n",
       "      <th></th>\n",
       "    </tr>\n",
       "  </thead>\n",
       "  <tbody>\n",
       "    <tr>\n",
       "      <th>0</th>\n",
       "      <td>244</td>\n",
       "      <td>244</td>\n",
       "    </tr>\n",
       "    <tr>\n",
       "      <th>1</th>\n",
       "      <td>6219</td>\n",
       "      <td>6219</td>\n",
       "    </tr>\n",
       "  </tbody>\n",
       "</table>\n",
       "</div>"
      ],
      "text/plain": [
       "                 pH  alcohol\n",
       "quality_range               \n",
       "0               244      244\n",
       "1              6219     6219"
      ]
     },
     "execution_count": 13,
     "metadata": {},
     "output_type": "execute_result"
    }
   ],
   "source": [
    "wine[['quality_range', 'pH', 'alcohol']].groupby(['quality_range'], as_index = True).count()"
   ]
  },
  {
   "cell_type": "markdown",
   "id": "dutch-hormone",
   "metadata": {},
   "source": [
    "# Decision Tree 기법 사용"
   ]
  },
  {
   "cell_type": "code",
   "execution_count": 14,
   "id": "modern-fundamentals",
   "metadata": {},
   "outputs": [
    {
     "name": "stdout",
     "output_type": "stream",
     "text": [
      "Shape of X_train: (3877, 12)\n",
      "Shape of y_train: (3877,)\n",
      "Shape of X_test: (2586, 12)\n",
      "Shape of y_test: (2586,)\n"
     ]
    }
   ],
   "source": [
    "from sklearn.model_selection import train_test_split\n",
    "X = wine[['fixed_acidity', 'volatile_acidity', 'citric_acid', 'residual_sugar',\n",
    "       'chlorides', 'free_sulfur_dioxide', 'total_sulfur_dioxide', 'density',\n",
    "       'pH', 'sulphates', 'alcohol', 'white']]\n",
    "y = wine['quality_range']\n",
    "X_train, X_test, y_train, y_test = train_test_split(X, \n",
    "                                                    y, \n",
    "                                                    test_size=0.4, \n",
    "                                                    shuffle=False, \n",
    "                                                    random_state=100)\n",
    "print(\"Shape of X_train: {}\".format(X_train.shape))\n",
    "print(\"Shape of y_train: {}\".format(y_train.shape))\n",
    "print(\"Shape of X_test: {}\".format(X_test.shape))\n",
    "print(\"Shape of y_test: {}\".format(y_test.shape))"
   ]
  },
  {
   "cell_type": "code",
   "execution_count": 15,
   "id": "surface-deadline",
   "metadata": {
    "scrolled": false
   },
   "outputs": [
    {
     "name": "stdout",
     "output_type": "stream",
     "text": [
      "정확도 1: 0.9659706109822119\n",
      "정확도 2: 0.8437741686001546\n",
      "정확도 3: 0.7358855375096675\n",
      "정확도 4: 0.777262180974478\n",
      "정확도 5: 0.7880897138437741\n",
      "정확도 6: 0.8097447795823666\n",
      "정확도 7: 0.7579273008507347\n",
      "정확도 8: 0.7238979118329466\n",
      "정확도 9: 0.6585460170146945\n",
      "정확도 10: 0.680201082753287\n"
     ]
    }
   ],
   "source": [
    "from sklearn.tree import DecisionTreeClassifier\n",
    "from sklearn import metrics\n",
    "depth = [1, 2, 3, 4, 5, 6, 7, 8, 9, 10]\n",
    "\n",
    "for i in depth:\n",
    "    DTC = DecisionTreeClassifier(criterion='gini', max_features=10, max_depth=i)\n",
    "    DTC = DTC.fit(X_train, y_train)\n",
    "    y_predict = DTC.predict(X_test)\n",
    "    print('정확도 {0}: {1}'.format(i, metrics.accuracy_score(y_test, y_predict)))"
   ]
  },
  {
   "cell_type": "markdown",
   "id": "nasty-flour",
   "metadata": {},
   "source": [
    "# 전처리 없이 imbalance 한 상태로 모델링"
   ]
  },
  {
   "cell_type": "code",
   "execution_count": 16,
   "id": "emotional-shadow",
   "metadata": {},
   "outputs": [
    {
     "data": {
      "text/plain": [
       "Index(['fixed_acidity', 'volatile_acidity', 'citric_acid', 'residual_sugar',\n",
       "       'chlorides', 'free_sulfur_dioxide', 'total_sulfur_dioxide', 'density',\n",
       "       'pH', 'sulphates', 'alcohol', 'quality_range', 'white'],\n",
       "      dtype='object')"
      ]
     },
     "execution_count": 16,
     "metadata": {},
     "output_type": "execute_result"
    }
   ],
   "source": [
    "wine.columns"
   ]
  },
  {
   "cell_type": "code",
   "execution_count": 17,
   "id": "actual-console",
   "metadata": {},
   "outputs": [],
   "source": [
    "feature_cols = ['fixed_acidity', 'volatile_acidity', 'citric_acid', 'residual_sugar',\n",
    "       'chlorides', 'free_sulfur_dioxide', 'total_sulfur_dioxide', 'density',\n",
    "       'pH', 'sulphates', 'alcohol', 'white']\n",
    "X = wine[feature_cols]\n",
    "y = wine['quality_range']\n",
    "\n",
    "from sklearn.model_selection import train_test_split\n",
    "X_train, X_test, y_train, y_test = train_test_split(X, y, random_state=123)"
   ]
  },
  {
   "cell_type": "code",
   "execution_count": 18,
   "id": "apparent-provision",
   "metadata": {
    "scrolled": true
   },
   "outputs": [
    {
     "data": {
      "text/plain": [
       "fixed_acidity           0\n",
       "volatile_acidity        0\n",
       "citric_acid             0\n",
       "residual_sugar          0\n",
       "chlorides               0\n",
       "free_sulfur_dioxide     0\n",
       "total_sulfur_dioxide    0\n",
       "density                 0\n",
       "pH                      0\n",
       "sulphates               0\n",
       "alcohol                 0\n",
       "quality_range           0\n",
       "white                   0\n",
       "dtype: int64"
      ]
     },
     "execution_count": 18,
     "metadata": {},
     "output_type": "execute_result"
    }
   ],
   "source": [
    "wine.isna().sum()"
   ]
  },
  {
   "cell_type": "code",
   "execution_count": 19,
   "id": "polished-inventory",
   "metadata": {},
   "outputs": [
    {
     "name": "stdout",
     "output_type": "stream",
     "text": [
      "[('fixed_acidity', -0.1724268595728503), ('volatile_acidity', -5.473068499095968), ('citric_acid', 1.5821832935250426), ('residual_sugar', 0.06314304490048692), ('chlorides', 0.10884891705666072), ('free_sulfur_dioxide', 0.020640338638975426), ('total_sulfur_dioxide', 0.0023474165720562346), ('density', 0.3821501847103365), ('pH', 0.20520888681420082), ('sulphates', 1.4122591369728756), ('alcohol', 0.4683588867762852), ('white', -2.662385402681073)]\n"
     ]
    }
   ],
   "source": [
    "from sklearn.linear_model import LogisticRegression\n",
    "\n",
    "logreg = LogisticRegression(C=1000)\n",
    "logreg.fit(X_train, y_train)\n",
    "print(list(zip(feature_cols, logreg.coef_[0])))"
   ]
  },
  {
   "cell_type": "code",
   "execution_count": 20,
   "id": "urban-clause",
   "metadata": {},
   "outputs": [
    {
     "name": "stdout",
     "output_type": "stream",
     "text": [
      "[[-1.72426860e-01 -5.47306850e+00  1.58218329e+00  6.31430449e-02\n",
      "   1.08848917e-01  2.06403386e-02  2.34741657e-03  3.82150185e-01\n",
      "   2.05208887e-01  1.41225914e+00  4.68358887e-01 -2.66238540e+00]]\n",
      "[-1.72426860e-01 -5.47306850e+00  1.58218329e+00  6.31430449e-02\n",
      "  1.08848917e-01  2.06403386e-02  2.34741657e-03  3.82150185e-01\n",
      "  2.05208887e-01  1.41225914e+00  4.68358887e-01 -2.66238540e+00]\n"
     ]
    }
   ],
   "source": [
    "print(logreg.coef_)\n",
    "print(logreg.coef_[0])"
   ]
  },
  {
   "cell_type": "code",
   "execution_count": 21,
   "id": "acting-radio",
   "metadata": {},
   "outputs": [],
   "source": [
    "y_pred_class = logreg.predict(X_test)"
   ]
  },
  {
   "cell_type": "code",
   "execution_count": 22,
   "id": "numerical-married",
   "metadata": {},
   "outputs": [],
   "source": [
    "y_pred_prob = logreg.predict_proba(X_test)"
   ]
  },
  {
   "cell_type": "code",
   "execution_count": 23,
   "id": "clean-reader",
   "metadata": {},
   "outputs": [
    {
     "data": {
      "text/plain": [
       "array([[0.01024001, 0.98975999],\n",
       "       [0.03618669, 0.96381331],\n",
       "       [0.32675772, 0.67324228],\n",
       "       ...,\n",
       "       [0.03026667, 0.96973333],\n",
       "       [0.01022175, 0.98977825],\n",
       "       [0.11767563, 0.88232437]])"
      ]
     },
     "execution_count": 23,
     "metadata": {},
     "output_type": "execute_result"
    }
   ],
   "source": [
    "y_pred_prob"
   ]
  },
  {
   "cell_type": "code",
   "execution_count": 24,
   "id": "sublime-sewing",
   "metadata": {},
   "outputs": [
    {
     "name": "stdout",
     "output_type": "stream",
     "text": [
      "0.9647277227722773\n"
     ]
    }
   ],
   "source": [
    "# calculate classification accuracy\n",
    "from sklearn import metrics\n",
    "\n",
    "print(metrics.accuracy_score(y_test, y_pred_class))"
   ]
  },
  {
   "cell_type": "markdown",
   "id": "separated-juice",
   "metadata": {},
   "source": [
    "# Oversampling기법\n",
    "\n",
    "- undersampling기법은 잘 사용하지 않는 편이다.\n",
    "- oversampling기법으로는 SMOTE방법이 있다"
   ]
  },
  {
   "cell_type": "markdown",
   "id": "ruled-constraint",
   "metadata": {},
   "source": [
    "- 내가 측정한 정확도가 오버피팅되었는지 알 수 있는 방법? --> validation set과 training set을 동시에 확인하는 것이 좋다\n",
    "- 새로운 데이터를 여러개 넣어보고 정확도나 rmse를 확인하는 것이 좋다"
   ]
  },
  {
   "cell_type": "code",
   "execution_count": 26,
   "id": "peaceful-medication",
   "metadata": {},
   "outputs": [
    {
     "name": "stdout",
     "output_type": "stream",
     "text": [
      "SMOTE 적용 전 학습용 피처/레이블 데이터 세트:  (4847, 12) (4847,)\n",
      "SMOTE 적용 후 학습용 피처/레이블 데이터 세트:  (9320, 12) (9320,)\n",
      "SMOTE 적용 후 레이블 값 분포: \n",
      " 0    4660\n",
      "1    4660\n",
      "Name: quality_range, dtype: int64\n"
     ]
    }
   ],
   "source": [
    "from imblearn.over_sampling import SMOTE\n",
    "\n",
    "smote = SMOTE(random_state=0)\n",
    "X_train_over, y_train_over = smote.fit_resample(X_train, y_train)\n",
    "print('SMOTE 적용 전 학습용 피처/레이블 데이터 세트: ', X_train.shape, y_train.shape)\n",
    "print('SMOTE 적용 후 학습용 피처/레이블 데이터 세트: ', X_train_over.shape, y_train_over.shape)\n",
    "print('SMOTE 적용 후 레이블 값 분포: \\n', pd.Series(y_train_over).value_counts())"
   ]
  },
  {
   "cell_type": "code",
   "execution_count": 29,
   "id": "religious-qualification",
   "metadata": {
    "scrolled": false
   },
   "outputs": [
    {
     "name": "stdout",
     "output_type": "stream",
     "text": [
      "Shape of X_train: (3877, 12)\n",
      "Shape of y_train: (3877,)\n",
      "Shape of X_test: (2586, 12)\n",
      "Shape of y_test: (2586,)\n"
     ]
    }
   ],
   "source": [
    "y = wine['quality_range']\n",
    "X_train, X_test, y_train, y_test = train_test_split(X, \n",
    "                                                    y, \n",
    "                                                    test_size=0.4, \n",
    "                                                    shuffle=False, \n",
    "                                                    random_state=100)\n",
    "print(\"Shape of X_train: {}\".format(X_train.shape))\n",
    "print(\"Shape of y_train: {}\".format(y_train.shape))\n",
    "print(\"Shape of X_test: {}\".format(X_test.shape))\n",
    "print(\"Shape of y_test: {}\".format(y_test.shape))"
   ]
  },
  {
   "cell_type": "code",
   "execution_count": 30,
   "id": "southern-framing",
   "metadata": {},
   "outputs": [
    {
     "name": "stdout",
     "output_type": "stream",
     "text": [
      "정확도 1: 0.9659706109822119\n",
      "정확도 2: 0.8437741686001546\n",
      "정확도 3: 0.7382057231245166\n",
      "정확도 4: 0.7331786542923434\n",
      "정확도 5: 0.7037896365042536\n",
      "정확도 6: 0.771461716937355\n",
      "정확도 7: 0.7563805104408353\n",
      "정확도 8: 0.742846094354215\n",
      "정확도 9: 0.7273781902552204\n",
      "정확도 10: 0.6438515081206496\n"
     ]
    }
   ],
   "source": [
    "from sklearn.tree import DecisionTreeClassifier\n",
    "from sklearn import metrics\n",
    "depth = [1, 2, 3, 4, 5, 6, 7, 8, 9, 10]\n",
    "\n",
    "for i in depth:\n",
    "    DTC = DecisionTreeClassifier(criterion='gini', max_features=10, max_depth=i)\n",
    "    DTC = DTC.fit(X_train, y_train)\n",
    "    y_predict = DTC.predict(X_test)\n",
    "    print('정확도 {0}: {1}'.format(i, metrics.accuracy_score(y_test, y_predict)))"
   ]
  }
 ],
 "metadata": {
  "kernelspec": {
   "display_name": "Python 3",
   "language": "python",
   "name": "python3"
  },
  "language_info": {
   "codemirror_mode": {
    "name": "ipython",
    "version": 3
   },
   "file_extension": ".py",
   "mimetype": "text/x-python",
   "name": "python",
   "nbconvert_exporter": "python",
   "pygments_lexer": "ipython3",
   "version": "3.8.5"
  }
 },
 "nbformat": 4,
 "nbformat_minor": 5
}
